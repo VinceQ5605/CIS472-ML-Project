{
 "cells": [
  {
   "cell_type": "code",
   "execution_count": 1,
   "id": "415240f5",
   "metadata": {},
   "outputs": [],
   "source": [
    "import torch\n",
    "import torch.nn as nn"
   ]
  },
  {
   "cell_type": "code",
   "execution_count": 3,
   "id": "8f7d99a2",
   "metadata": {},
   "outputs": [],
   "source": [
    "class AlexNet(nn.Module):\n",
    "    def __init__(self, nout):\n",
    "        super(AlexNet, self).__init__()\n",
    "        self.conv_1 = nn.Conv2d(in_channels=3, out_channels=96, kernel_size=11, stride=4, padding=0)\n",
    "        nn.init.kaiming_uniform_(self.conv_1.weight)\n",
    "        self.conv_2 = nn.Conv2d(in_channels=96, out_channels=256, kernel_size=5, stride=1, padding=2)\n",
    "        nn.init.kaiming_uniform_(self.conv_2.weight)\n",
    "        self.conv_3 = nn.Conv2d(in_channels=256, out_channels=384, kernel_size=3, stride=1, padding=1)\n",
    "        nn.init.kaiming_uniform_(self.conv_3.weight)\n",
    "        self.conv_4 = nn.Conv2d(in_channels=384, out_channels=384, kernel_size=3, stride=1, padding=1)\n",
    "        nn.init.kaiming_uniform_(self.conv_4.weight)\n",
    "        self.conv_5 = nn.Conv2d(in_channels=384, out_channels=256, kernel_size=3, stride=1, padding=1)\n",
    "        nn.init.kaiming_uniform_(self.conv_5.weight)\n",
    "        self.linear_1 = nn.Linear(in_features=9216, out_features=4096)\n",
    "        self.linear_2 = nn.Linear(in_features=4096, out_features=4096)\n",
    "        self.linear_3 = nn.Linear(in_features=4096, out_features=nout)\n",
    "        self.relu = nn.ReLU(True)\n",
    "        self.pool = nn.MaxPool2d(kernel_size=3, stride=2)\n",
    "        self.drop = nn.Dropout()\n",
    "        \n",
    "    def forward(self, x):\n",
    "        x = self.relu(self.conv_1(x))\n",
    "        x = self.pool(x)\n",
    "        x = self.relu(self.conv_2(x))\n",
    "        x = self.pool(x)\n",
    "        x = self.relu(self.conv_3(x))\n",
    "        x = self.relu(self.conv_4(x))\n",
    "        x = self.relu(self.conv_5(x))\n",
    "        x = self.pool(x)\n",
    "        x = x.view(x.shape[0], -1)\n",
    "        x = self.relu(self.linear_1(x))\n",
    "        x = self.drop(x)\n",
    "        x = self.relu(self.linear_2(x))\n",
    "        x = self.linear_3(x)\n",
    "        return x"
   ]
  },
  {
   "cell_type": "code",
   "execution_count": null,
   "id": "be295650",
   "metadata": {},
   "outputs": [],
   "source": []
  }
 ],
 "metadata": {
  "kernelspec": {
   "display_name": "Python 3 (ipykernel)",
   "language": "python",
   "name": "python3"
  },
  "language_info": {
   "codemirror_mode": {
    "name": "ipython",
    "version": 3
   },
   "file_extension": ".py",
   "mimetype": "text/x-python",
   "name": "python",
   "nbconvert_exporter": "python",
   "pygments_lexer": "ipython3",
   "version": "3.8.12"
  }
 },
 "nbformat": 4,
 "nbformat_minor": 5
}
