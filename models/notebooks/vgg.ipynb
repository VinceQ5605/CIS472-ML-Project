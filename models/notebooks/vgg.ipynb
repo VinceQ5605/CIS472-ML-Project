{
 "cells": [
  {
   "cell_type": "code",
   "execution_count": 1,
   "id": "08ffbc30",
   "metadata": {},
   "outputs": [],
   "source": [
    "import torch\n",
    "import torch.nn as nn"
   ]
  },
  {
   "cell_type": "code",
   "execution_count": 3,
   "id": "a4677dcf",
   "metadata": {},
   "outputs": [],
   "source": [
    "class VGG16(nn.Module):\n",
    "    def __init__(self, hidden_features, nout, dropout=False):\n",
    "        super().__init__()\n",
    "        self.dropout = dropout\n",
    "        self.conv_1a = nn.Conv2d(in_channels=3, out_channels=32, kernel_size=(3,3), padding=1)\n",
    "        nn.init.kaiming_uniform_(self.conv_1a.weight)\n",
    "        self.conv_1b = nn.Conv2d(in_channels=32, out_channels=64, kernel_size=(3,3), padding=1)\n",
    "        nn.init.kaiming_uniform_(self.conv_1b.weight)\n",
    "        self.conv_2a = nn.Conv2d(in_channels=64, out_channels=128, kernel_size=(3,3), padding=1)\n",
    "        nn.init.kaiming_uniform_(self.conv_2a.weight)\n",
    "        self.conv_2b = nn.Conv2d(in_channels=128, out_channels=128, kernel_size=(3,3), padding=1)\n",
    "        nn.init.kaiming_uniform_(self.conv_2b.weight)\n",
    "        self.conv_3a = nn.Conv2d(in_channels=128, out_channels=256, kernel_size=(3,3), padding=1)\n",
    "        nn.init.kaiming_uniform_(self.conv_3a.weight)\n",
    "        self.conv_3b = nn.Conv2d(in_channels=256, out_channels=256, kernel_size=(3,3), padding=1)\n",
    "        nn.init.kaiming_uniform_(self.conv_3b.weight)\n",
    "        self.conv_4a = nn.Conv2d(in_channels=256, out_channels=512, kernel_size=(3,3), padding=1)\n",
    "        nn.init.kaiming_uniform_(self.conv_4a.weight)\n",
    "        self.conv_4b = nn.Conv2d(in_channels=512, out_channels=512, kernel_size=(3,3), padding=1)\n",
    "        nn.init.kaiming_uniform_(self.conv_4b.weight)\n",
    "        self.relu = nn.ReLU(True)\n",
    "        self.pool = nn.MaxPool2d(2, 2)\n",
    "        self.linear_1 = nn.Linear(512*14*14, hidden_features)\n",
    "        self.linear_2 = nn.Linear(hidden_features, hidden_features)\n",
    "        self.linear_3 = nn.Linear(hidden_features, nout)\n",
    "        self.drop = nn.Dropout()\n",
    "        self.batchnorm_64 = nn.BatchNorm2d(64)\n",
    "        self.batchnorm_128 = nn.BatchNorm2d(128)\n",
    "        self.batchnorm_256 = nn.BatchNorm2d(256)\n",
    "        self.batchnorm_512 = nn.BatchNorm2d(512)\n",
    "        \n",
    "    def forward(self, x):\n",
    "        x = self.relu(self.conv_1a(x))\n",
    "        x = self.relu(self.conv_1b(x))\n",
    "        x = self.pool(x) # 64x16x16\n",
    "        x = self.batchnorm_64(x)\n",
    "        x = self.relu(self.conv_2a(x))\n",
    "        x = self.relu(self.conv_2b(x))\n",
    "        x = self.pool(x) # 128x8x8\n",
    "        x = self.batchnorm_128(x)\n",
    "        x = self.relu(self.conv_3a(x))\n",
    "        x = self.relu(self.conv_3b(x))\n",
    "        x = self.relu(self.conv_3b(x))\n",
    "        x = self.pool(x) # 256x4x4\n",
    "        x = self.batchnorm_256(x)\n",
    "        x = self.relu(self.conv_4a(x))\n",
    "        x = self.relu(self.conv_4b(x))\n",
    "        x = self.relu(self.conv_4b(x))\n",
    "        x = self.pool(x) # 512x2x2\n",
    "        x = self.batchnorm_512(x)\n",
    "        x = x.view(x.shape[0], -1)\n",
    "        x = self.relu(self.linear_1(x))\n",
    "        if self.dropout:\n",
    "            x = self.drop(x)\n",
    "        x = self.relu(self.linear_2(x))\n",
    "        x = self.linear_3(x)\n",
    "        return x"
   ]
  },
  {
   "cell_type": "code",
   "execution_count": null,
   "id": "047b40f3",
   "metadata": {},
   "outputs": [],
   "source": []
  }
 ],
 "metadata": {
  "kernelspec": {
   "display_name": "Python 3 (ipykernel)",
   "language": "python",
   "name": "python3"
  },
  "language_info": {
   "codemirror_mode": {
    "name": "ipython",
    "version": 3
   },
   "file_extension": ".py",
   "mimetype": "text/x-python",
   "name": "python",
   "nbconvert_exporter": "python",
   "pygments_lexer": "ipython3",
   "version": "3.8.12"
  }
 },
 "nbformat": 4,
 "nbformat_minor": 5
}
