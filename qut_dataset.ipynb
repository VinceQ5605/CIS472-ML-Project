{
 "cells": [
  {
   "cell_type": "code",
   "execution_count": 1,
   "id": "9d6b628d",
   "metadata": {},
   "outputs": [],
   "source": [
    "CWD = r'C:\\Users\\Evant\\Desktop\\cis472\\latest\\CIS472-CourseProject'\n",
    "import torch\n",
    "import torch.nn as nn\n",
    "from torch import optim\n",
    "from torch.utils.data import Dataset, DataLoader, random_split\n",
    "from torchvision import transforms as T\n",
    "from torchvision.utils import make_grid\n",
    "import matplotlib.pyplot as plt\n",
    "import os\n",
    "import random\n",
    "from PIL import Image\n",
    "from tqdm import tqdm\n",
    "import numpy as np\n",
    "import sys\n",
    "import time\n",
    "import shutil\n",
    "sys.path.append(CWD+r'\\models')\n",
    "# sys.path.append(r'C:\\Users\\hansm\\Github\\CIS472-CourseProject\\models')\n",
    "from lenet import LeNet\n",
    "from vgg import VGG16\n",
    "from alexnet import AlexNet\n",
    "sys.path.pop()\n",
    "# sys.path.append(r'C:\\Users\\hansm\\Github\\CIS472-CourseProject\\training')\n",
    "# from training import train_epoch, evaluate\n",
    "# sys.path.pop()\n",
    "\n",
    "device = torch.device(\"cuda\" if torch.cuda.is_available() else \"cpu\")"
   ]
  },
  {
   "cell_type": "code",
   "execution_count": 2,
   "id": "bcf1a159",
   "metadata": {},
   "outputs": [],
   "source": [
    "def matplotlib_imshow(img, one_channel=False):\n",
    "    if one_channel:\n",
    "        img = img.mean(dim=0)\n",
    "    img = img / 2 + 0.5     # unnormalize\n",
    "    npimg = img.numpy()\n",
    "    if one_channel:\n",
    "        plt.imshow(npimg, cmap=\"Greys\")\n",
    "    else:\n",
    "        plt.imshow(np.transpose(npimg, (1, 2, 0)))"
   ]
  },
  {
   "cell_type": "markdown",
   "id": "460ce625",
   "metadata": {},
   "source": [
    "# Qut Fish Dataset"
   ]
  },
  {
   "cell_type": "code",
   "execution_count": 3,
   "id": "df660739",
   "metadata": {},
   "outputs": [],
   "source": [
    "# data_path = \"C:\\\\Users\\\\hansm\\\\Github\\\\CIS472-CourseProject\\\\Project Datasets\\\\Dataset1\\\\QutFishDataset\\\\archive\\\\Fish_data\"\n",
    "data_path = r\"C:\\Users\\Evant\\Desktop\\cis472\\Fish_Data\""
   ]
  },
  {
   "cell_type": "code",
   "execution_count": 4,
   "id": "d936d802",
   "metadata": {},
   "outputs": [
    {
     "name": "stdout",
     "output_type": "stream",
     "text": [
      "483\n"
     ]
    }
   ],
   "source": [
    "# get all classes for the dataset\n",
    "classes = []\n",
    "# classes_file = r\"C:\\Users\\hansm\\Github\\CIS472-CourseProject\\Project Datasets\\Dataset1\\QutFishDataset\\archive\\Fish_data\\final_all_index.txt\"\n",
    "classes_file = r\"C:\\Users\\Evant\\Desktop\\cis472\\Fish_Data\\final_all_index.txt\"\n",
    "with open(classes_file) as classesf:\n",
    "    for line in classesf:\n",
    "        splitted_line = line.strip().split('=')\n",
    "        cls = splitted_line[1]\n",
    "        if cls not in classes:\n",
    "            classes.append(cls)\n",
    "        else:\n",
    "            continue\n",
    "    classesf.close()\n",
    "num_classes = len(classes)\n",
    "print(num_classes)"
   ]
  },
  {
   "cell_type": "code",
   "execution_count": 5,
   "id": "02ceb0a2",
   "metadata": {},
   "outputs": [],
   "source": [
    "class QutFishDataset(Dataset):\n",
    "    def __init__(self, data_path, transform=None):\n",
    "        self.data_path = data_path\n",
    "        self.transform = transform\n",
    "        self.labels = []\n",
    "        self.images = []\n",
    "        index_file = f\"{self.data_path}\\\\final_all_index.txt\"\n",
    "        with open(index_file) as indexf:\n",
    "            for line in indexf:\n",
    "                splitted_line = line.strip().split('=')\n",
    "                label = splitted_line[0]\n",
    "                image = splitted_line[4] + \".png\"\n",
    "                self.labels.append(label)\n",
    "                self.images.append(image)\n",
    "            indexf.close()\n",
    "        \n",
    "    def __len__(self):\n",
    "        return len(self.images)\n",
    "        \n",
    "    def __getitem__(self, idx):\n",
    "        img = Image.open(f\"{self.data_path}\\\\images\\\\numbered\\\\{self.images[idx]}\").convert(\"RGB\")\n",
    "        img = img.convert(\"RGB\")\n",
    "        img = self.transform(img)\n",
    "        label = torch.tensor(int(self.labels[idx]) - 1)\n",
    "        return img, label"
   ]
  },
  {
   "cell_type": "markdown",
   "id": "dbd9ffca",
   "metadata": {},
   "source": [
    "<br><span style=\"color:black;font-size:35px\">**LeNet**</span>"
   ]
  },
  {
   "cell_type": "code",
   "execution_count": 6,
   "id": "765d1cae",
   "metadata": {},
   "outputs": [],
   "source": [
    "# lenet = LeNet(num_classes)\n",
    "# lenetModel = lenet.to(device)\n",
    "# print(lenetModel)"
   ]
  },
  {
   "cell_type": "code",
   "execution_count": 7,
   "id": "048de557",
   "metadata": {},
   "outputs": [],
   "source": [
    "# hyperparameters\n",
    "lenet_batch_size = 16\n",
    "lenet_learning_rate=0.1\n",
    "lenet_nepochs = 30"
   ]
  },
  {
   "cell_type": "code",
   "execution_count": 8,
   "id": "08f8ebb7",
   "metadata": {},
   "outputs": [],
   "source": [
    "# transform\n",
    "transform = T.Compose([\n",
    "    T.Resize((32, 32)),\n",
    "    T.ToTensor(),\n",
    "    T.Normalize((0.5, 0.5, 0.5), (0.5, 0.5, 0.5))\n",
    "])"
   ]
  },
  {
   "cell_type": "code",
   "execution_count": 9,
   "id": "b53b0990",
   "metadata": {},
   "outputs": [
    {
     "name": "stdout",
     "output_type": "stream",
     "text": [
      "3528\n",
      "883\n"
     ]
    }
   ],
   "source": [
    "# Split dataset into train and test sets\n",
    "fish_data = QutFishDataset(data_path=data_path, transform=transform)\n",
    "train_size = int(0.8 * len(fish_data))\n",
    "test_size = len(fish_data) - train_size\n",
    "train_dataset, test_dataset = random_split(fish_data, [train_size, test_size])\n",
    "print(len(train_dataset))\n",
    "print(len(test_dataset))"
   ]
  },
  {
   "cell_type": "code",
   "execution_count": 10,
   "id": "755272c5",
   "metadata": {},
   "outputs": [
    {
     "name": "stdout",
     "output_type": "stream",
     "text": [
      "221\n"
     ]
    }
   ],
   "source": [
    "# train and test loader\n",
    "train_loader = DataLoader(train_dataset, batch_size=lenet_batch_size, shuffle=True)\n",
    "test_loader = DataLoader(test_dataset, batch_size=lenet_batch_size, shuffle=False)\n",
    "print(len(train_loader))"
   ]
  },
  {
   "cell_type": "code",
   "execution_count": 11,
   "id": "48c90747",
   "metadata": {},
   "outputs": [],
   "source": [
    "def evaluate(model, test_data):\n",
    "    model.eval()\n",
    "    accuracy = 0\n",
    "    with torch.no_grad():\n",
    "        for (data, label) in test_data:\n",
    "#             print(data)\n",
    "            data = data.to(device)\n",
    "#             label = torch.tensor(label)\n",
    "#             print(label)\n",
    "            label = label.to(device)\n",
    "            out = model(data)\n",
    "            answers = out.max(dim=1)[1]\n",
    "#             answers = torch.max(out, dim=1)\n",
    "#             print(answers)\n",
    "            accuracy += (answers == label).sum()\n",
    "    return accuracy"
   ]
  },
  {
   "cell_type": "code",
   "execution_count": 12,
   "id": "746371fd",
   "metadata": {},
   "outputs": [],
   "source": [
    "def train_epoch(model, train_data, LossFunction, optimizer):\n",
    "#     model.to(device)\n",
    "    model.train()\n",
    "    loss_history = []\n",
    "    acc_history = []\n",
    "    correct = 0\n",
    "    for (data, label) in tqdm(train_data, desc=\"iteration\", unit=\"%\", disable=True):\n",
    "        # clear the gradients\n",
    "        optimizer.zero_grad(set_to_none=True)\n",
    "        \n",
    "        # send the data and labels to the same device as the training model\n",
    "        data = data.to(device)\n",
    "#         print(label.shape)\n",
    "        label = label.to(device)\n",
    "\n",
    "        # get the output from the model\n",
    "        out = model(data)\n",
    "#         print(out.shape)\n",
    "        _, output = torch.max(out, 1)\n",
    "        \n",
    "        # calculate loss\n",
    "        loss = LossFunction(out, label)\n",
    "        \n",
    "        # calculate gradients and perform gradient descent\n",
    "        loss.backward()\n",
    "        optimizer.step()\n",
    "        correct += (output == label).float().sum()\n",
    "        loss_history.append(loss.item())\n",
    "    accuracy = 100 * correct / len(train_dataset)\n",
    "    return loss_history, accuracy"
   ]
  },
  {
   "cell_type": "code",
   "execution_count": 13,
   "id": "e0b28e8a",
   "metadata": {},
   "outputs": [
    {
     "name": "stdout",
     "output_type": "stream",
     "text": [
      "Type: <class 'list'>\n",
      "Length: 2\n",
      "More Types: <class 'torch.Tensor'>, <class 'torch.Tensor'>\n",
      "Shapes: torch.Size([16, 3, 32, 32]), torch.Size([16])\n",
      "Labels: tensor([442, 224, 133,  93, 272,  97,  79, 171, 451, 402, 272, 415, 162, 279,\n",
      "        149, 440])\n",
      "\n"
     ]
    },
    {
     "data": {
      "image/png": "[encoded data removed]",
      "text/plain": [
       "<Figure size 432x288 with 1 Axes>"
      ]
     },
     "metadata": {
      "needs_background": "light"
     },
     "output_type": "display_data"
    }
   ],
   "source": [
    "data = iter(train_loader) # iterate through data\n",
    "single_point = next(data)\n",
    "print(f\"\"\"Type: {type(single_point)}\n",
    "Length: {len(single_point)}\n",
    "More Types: {type(single_point[0])}, {type(single_point[1])}\n",
    "Shapes: {single_point[0].shape}, {single_point[1].shape}\n",
    "Labels: {single_point[1]}\n",
    "\"\"\")\n",
    "img_grid = make_grid(single_point[0])\n",
    "matplotlib_imshow(img_grid)"
   ]
  },
  {
   "cell_type": "code",
   "execution_count": 66,
   "id": "b4a51e41",
   "metadata": {
    "scrolled": true
   },
   "outputs": [
    {
     "name": "stderr",
     "output_type": "stream",
     "text": [
      "Epoch:   3%|██▍                                                                      | 1/30 [00:11<05:38, 11.67s/epoch]"
     ]
    },
    {
     "name": "stdout",
     "output_type": "stream",
     "text": [
      "Epoch 0:\n",
      "train loss: 6.301864147186279\n",
      "train acc:  0.7086167931556702 test acc: 0.7927519083023071\n"
     ]
    },
    {
     "name": "stderr",
     "output_type": "stream",
     "text": [
      "\r",
      "Epoch:   7%|████▊                                                                    | 2/30 [00:23<05:24, 11.61s/epoch]"
     ]
    },
    {
     "name": "stdout",
     "output_type": "stream",
     "text": [
      "Epoch 1:\n",
      "train loss: 6.068131446838379\n",
      "train acc:  1.1621315479278564 test acc: 1.2457530498504639\n"
     ]
    },
    {
     "name": "stderr",
     "output_type": "stream",
     "text": [
      "\r",
      "Epoch:  10%|███████▎                                                                 | 3/30 [00:34<05:14, 11.64s/epoch]"
     ]
    },
    {
     "name": "stdout",
     "output_type": "stream",
     "text": [
      "Epoch 2:\n",
      "train loss: 5.959287166595459\n",
      "train acc:  2.8344671726226807 test acc: 2.6047565937042236\n"
     ]
    },
    {
     "name": "stderr",
     "output_type": "stream",
     "text": [
      "\r",
      "Epoch:  13%|█████████▋                                                               | 4/30 [00:46<05:01, 11.61s/epoch]"
     ]
    },
    {
     "name": "stdout",
     "output_type": "stream",
     "text": [
      "Epoch 3:\n",
      "train loss: 5.495223522186279\n",
      "train acc:  5.470521450042725 test acc: 4.530011177062988\n"
     ]
    },
    {
     "name": "stderr",
     "output_type": "stream",
     "text": [
      "\r",
      "Epoch:  17%|████████████▏                                                            | 5/30 [00:58<04:50, 11.64s/epoch]"
     ]
    },
    {
     "name": "stdout",
     "output_type": "stream",
     "text": [
      "Epoch 4:\n",
      "train loss: 4.1809539794921875\n",
      "train acc:  7.9365081787109375 test acc: 5.662513732910156\n"
     ]
    },
    {
     "name": "stderr",
     "output_type": "stream",
     "text": [
      "\r",
      "Epoch:  20%|██████████████▌                                                          | 6/30 [01:09<04:39, 11.63s/epoch]"
     ]
    },
    {
     "name": "stdout",
     "output_type": "stream",
     "text": [
      "Epoch 5:\n",
      "train loss: 3.8796815872192383\n",
      "train acc:  11.592970848083496 test acc: 7.587769031524658\n"
     ]
    },
    {
     "name": "stderr",
     "output_type": "stream",
     "text": [
      "\r",
      "Epoch:  23%|█████████████████                                                        | 7/30 [01:21<04:27, 11.61s/epoch]"
     ]
    },
    {
     "name": "stdout",
     "output_type": "stream",
     "text": [
      "Epoch 6:\n",
      "train loss: 3.7421765327453613\n",
      "train acc:  15.646258354187012 test acc: 9.739523887634277\n"
     ]
    },
    {
     "name": "stderr",
     "output_type": "stream",
     "text": [
      "\r",
      "Epoch:  27%|███████████████████▍                                                     | 8/30 [01:33<04:16, 11.64s/epoch]"
     ]
    },
    {
     "name": "stdout",
     "output_type": "stream",
     "text": [
      "Epoch 7:\n",
      "train loss: 4.549192428588867\n",
      "train acc:  20.011337280273438 test acc: 11.098526954650879\n"
     ]
    },
    {
     "name": "stderr",
     "output_type": "stream",
     "text": [
      "\r",
      "Epoch:  30%|█████████████████████▉                                                   | 9/30 [01:44<04:03, 11.60s/epoch]"
     ]
    },
    {
     "name": "stdout",
     "output_type": "stream",
     "text": [
      "Epoch 8:\n",
      "train loss: 3.619709014892578\n",
      "train acc:  27.267574310302734 test acc: 13.929784774780273\n"
     ]
    },
    {
     "name": "stderr",
     "output_type": "stream",
     "text": [
      "\r",
      "Epoch:  33%|████████████████████████                                                | 10/30 [01:56<03:52, 11.63s/epoch]"
     ]
    },
    {
     "name": "stdout",
     "output_type": "stream",
     "text": [
      "Epoch 9:\n",
      "train loss: 2.737217903137207\n",
      "train acc:  31.46258544921875 test acc: 13.47678279876709\n"
     ]
    },
    {
     "name": "stderr",
     "output_type": "stream",
     "text": [
      "\r",
      "Epoch:  37%|██████████████████████████▍                                             | 11/30 [02:08<03:43, 11.76s/epoch]"
     ]
    },
    {
     "name": "stdout",
     "output_type": "stream",
     "text": [
      "Epoch 10:\n",
      "train loss: 2.312439203262329\n",
      "train acc:  36.621315002441406 test acc: 13.363533020019531\n"
     ]
    },
    {
     "name": "stderr",
     "output_type": "stream",
     "text": [
      "\r",
      "Epoch:  40%|████████████████████████████▊                                           | 12/30 [02:20<03:33, 11.87s/epoch]"
     ]
    },
    {
     "name": "stdout",
     "output_type": "stream",
     "text": [
      "Epoch 11:\n",
      "train loss: 3.0063493251800537\n",
      "train acc:  42.403629302978516 test acc: 16.42129135131836\n"
     ]
    },
    {
     "name": "stderr",
     "output_type": "stream",
     "text": [
      "\r",
      "Epoch:  43%|███████████████████████████████▏                                        | 13/30 [02:32<03:21, 11.83s/epoch]"
     ]
    },
    {
     "name": "stdout",
     "output_type": "stream",
     "text": [
      "Epoch 12:\n",
      "train loss: 1.0898349285125732\n",
      "train acc:  48.32766342163086 test acc: 15.288787841796875\n"
     ]
    },
    {
     "name": "stderr",
     "output_type": "stream",
     "text": [
      "\r",
      "Epoch:  47%|█████████████████████████████████▌                                      | 14/30 [02:43<03:07, 11.75s/epoch]"
     ]
    },
    {
     "name": "stdout",
     "output_type": "stream",
     "text": [
      "Epoch 13:\n",
      "train loss: 1.9664487838745117\n",
      "train acc:  52.125850677490234 test acc: 16.534542083740234\n"
     ]
    },
    {
     "name": "stderr",
     "output_type": "stream",
     "text": [
      "\r",
      "Epoch:  50%|████████████████████████████████████                                    | 15/30 [02:55<02:55, 11.73s/epoch]"
     ]
    },
    {
     "name": "stdout",
     "output_type": "stream",
     "text": [
      "Epoch 14:\n",
      "train loss: 1.8581092357635498\n",
      "train acc:  58.64512634277344 test acc: 16.42129135131836\n"
     ]
    },
    {
     "name": "stderr",
     "output_type": "stream",
     "text": [
      "\r",
      "Epoch:  53%|██████████████████████████████████████▍                                 | 16/30 [03:07<02:43, 11.69s/epoch]"
     ]
    },
    {
     "name": "stdout",
     "output_type": "stream",
     "text": [
      "Epoch 15:\n",
      "train loss: 1.2318679094314575\n",
      "train acc:  63.4920654296875 test acc: 16.64779281616211\n"
     ]
    },
    {
     "name": "stderr",
     "output_type": "stream",
     "text": [
      "\r",
      "Epoch:  57%|████████████████████████████████████████▊                               | 17/30 [03:18<02:31, 11.66s/epoch]"
     ]
    },
    {
     "name": "stdout",
     "output_type": "stream",
     "text": [
      "Epoch 16:\n",
      "train loss: 0.7980059385299683\n",
      "train acc:  66.97846221923828 test acc: 17.100791931152344\n"
     ]
    },
    {
     "name": "stderr",
     "output_type": "stream",
     "text": [
      "\r",
      "Epoch:  60%|███████████████████████████████████████████▏                            | 18/30 [03:30<02:22, 11.84s/epoch]"
     ]
    },
    {
     "name": "stdout",
     "output_type": "stream",
     "text": [
      "Epoch 17:\n",
      "train loss: 1.5948066711425781\n",
      "train acc:  70.66326904296875 test acc: 16.42129135131836\n"
     ]
    },
    {
     "name": "stderr",
     "output_type": "stream",
     "text": [
      "\r",
      "Epoch:  63%|█████████████████████████████████████████████▌                          | 19/30 [03:42<02:10, 11.91s/epoch]"
     ]
    },
    {
     "name": "stdout",
     "output_type": "stream",
     "text": [
      "Epoch 18:\n",
      "train loss: 0.9724603295326233\n",
      "train acc:  74.09297180175781 test acc: 17.55379295349121\n"
     ]
    },
    {
     "name": "stderr",
     "output_type": "stream",
     "text": [
      "\r",
      "Epoch:  67%|████████████████████████████████████████████████                        | 20/30 [03:54<01:59, 11.90s/epoch]"
     ]
    },
    {
     "name": "stdout",
     "output_type": "stream",
     "text": [
      "Epoch 19:\n",
      "train loss: 0.6783766746520996\n",
      "train acc:  75.48185729980469 test acc: 18.006793975830078\n"
     ]
    },
    {
     "name": "stderr",
     "output_type": "stream",
     "text": [
      "\r",
      "Epoch:  70%|██████████████████████████████████████████████████▍                     | 21/30 [04:06<01:46, 11.83s/epoch]"
     ]
    },
    {
     "name": "stdout",
     "output_type": "stream",
     "text": [
      "Epoch 20:\n",
      "train loss: 1.3504005670547485\n",
      "train acc:  77.97618865966797 test acc: 17.55379295349121\n"
     ]
    },
    {
     "name": "stderr",
     "output_type": "stream",
     "text": [
      "\r",
      "Epoch:  73%|████████████████████████████████████████████████████▊                   | 22/30 [04:18<01:34, 11.77s/epoch]"
     ]
    },
    {
     "name": "stdout",
     "output_type": "stream",
     "text": [
      "Epoch 21:\n",
      "train loss: 0.9682618379592896\n",
      "train acc:  79.76190948486328 test acc: 19.36579704284668\n"
     ]
    },
    {
     "name": "stderr",
     "output_type": "stream",
     "text": [
      "\r",
      "Epoch:  77%|███████████████████████████████████████████████████████▏                | 23/30 [04:29<01:22, 11.77s/epoch]"
     ]
    },
    {
     "name": "stdout",
     "output_type": "stream",
     "text": [
      "Epoch 22:\n",
      "train loss: 0.5639228820800781\n",
      "train acc:  82.02947998046875 test acc: 18.233295440673828\n"
     ]
    },
    {
     "name": "stderr",
     "output_type": "stream",
     "text": [
      "\r",
      "Epoch:  80%|█████████████████████████████████████████████████████████▌              | 24/30 [04:41<01:10, 11.74s/epoch]"
     ]
    },
    {
     "name": "stdout",
     "output_type": "stream",
     "text": [
      "Epoch 23:\n",
      "train loss: 0.41576895117759705\n",
      "train acc:  82.45465087890625 test acc: 18.686296463012695\n"
     ]
    },
    {
     "name": "stderr",
     "output_type": "stream",
     "text": [
      "\r",
      "Epoch:  83%|████████████████████████████████████████████████████████████            | 25/30 [04:53<00:58, 11.73s/epoch]"
     ]
    },
    {
     "name": "stdout",
     "output_type": "stream",
     "text": [
      "Epoch 24:\n",
      "train loss: 2.4229302406311035\n",
      "train acc:  83.02154541015625 test acc: 16.874292373657227\n"
     ]
    },
    {
     "name": "stderr",
     "output_type": "stream",
     "text": [
      "\r",
      "Epoch:  87%|██████████████████████████████████████████████████████████████▍         | 26/30 [05:05<00:46, 11.74s/epoch]"
     ]
    },
    {
     "name": "stdout",
     "output_type": "stream",
     "text": [
      "Epoch 25:\n",
      "train loss: 0.3301945924758911\n",
      "train acc:  84.01360321044922 test acc: 18.006793975830078\n"
     ]
    },
    {
     "name": "stderr",
     "output_type": "stream",
     "text": [
      "\r",
      "Epoch:  90%|████████████████████████████████████████████████████████████████▊       | 27/30 [05:17<00:35, 11.82s/epoch]"
     ]
    },
    {
     "name": "stdout",
     "output_type": "stream",
     "text": [
      "Epoch 26:\n",
      "train loss: 0.2591838240623474\n",
      "train acc:  87.1882095336914 test acc: 16.874292373657227\n"
     ]
    },
    {
     "name": "stderr",
     "output_type": "stream",
     "text": [
      "\r",
      "Epoch:  93%|███████████████████████████████████████████████████████████████████▏    | 28/30 [05:29<00:23, 12.00s/epoch]"
     ]
    },
    {
     "name": "stdout",
     "output_type": "stream",
     "text": [
      "Epoch 27:\n",
      "train loss: 0.6080251336097717\n",
      "train acc:  90.27777862548828 test acc: 19.252548217773438\n"
     ]
    },
    {
     "name": "stderr",
     "output_type": "stream",
     "text": [
      "\r",
      "Epoch:  97%|█████████████████████████████████████████████████████████████████████▌  | 29/30 [05:41<00:12, 12.00s/epoch]"
     ]
    },
    {
     "name": "stdout",
     "output_type": "stream",
     "text": [
      "Epoch 28:\n",
      "train loss: 0.6852115988731384\n",
      "train acc:  87.3299331665039 test acc: 18.233295440673828\n"
     ]
    },
    {
     "name": "stderr",
     "output_type": "stream",
     "text": [
      "Epoch: 100%|████████████████████████████████████████████████████████████████████████| 30/30 [05:53<00:00, 11.79s/epoch]"
     ]
    },
    {
     "name": "stdout",
     "output_type": "stream",
     "text": [
      "Epoch 29:\n",
      "train loss: 1.5645791292190552\n",
      "train acc:  86.13945770263672 test acc: 19.705549240112305\n"
     ]
    },
    {
     "name": "stderr",
     "output_type": "stream",
     "text": [
      "\n"
     ]
    }
   ],
   "source": [
    "lenet_1 = LeNet(num_classes=num_classes).to(device)\n",
    "\n",
    "# Adam optimizer\n",
    "lenet_optimizer_adam = optim.Adam(lenet_1.parameters(), lr=lenet_learning_rate)\n",
    "\n",
    "# loss function\n",
    "loss_function = nn.CrossEntropyLoss()\n",
    "\n",
    "# for epoch in range(nepochs):\n",
    "#     running_loss = 0.0\n",
    "#     start_time = time.time()\n",
    "#     for i, data in enumerate(train_loader, 0):\n",
    "#         inputs, labels = data[0].to(device), data[1].to(device)\n",
    "#         optimizer.zero_grad()\n",
    "        \n",
    "#         output = lenetModel(inputs)\n",
    "#         loss = LossFunction(output, labels)\n",
    "#         loss.backward()\n",
    "#         optimizer.step()\n",
    "        \n",
    "#         end_time = time.time()\n",
    "#         elapsed_time = (end_time - start_time)/60\n",
    "#         running_loss += loss.item()\n",
    "#         if (i+1) % 20 == 0:\n",
    "#             print('[epoch: %d, %5d] loss: %.3f' % (epoch + 1, i + 1, running_loss / 20))\n",
    "#             print(f\"Time: {elapsed_time} min\")\n",
    "#             running_loss = 0.0\n",
    "#     print()\n",
    "lenet_1.train()\n",
    "lenet_loss_history_1 = []\n",
    "lenet_train_acc_history_1 = []\n",
    "lenet_test_acc_history_1 = []\n",
    "for epoch in tqdm(range(lenet_nepochs),\n",
    "                  desc=f\"Epoch\",\n",
    "                  unit=\"epoch\",\n",
    "                  disable=False):\n",
    "    loss_history, accuracy = (train_epoch(model=lenet_1, \n",
    "                                          train_data=train_loader, \n",
    "                                          LossFunction=loss_function, \n",
    "                                          optimizer=lenet_optimizer_adam))\n",
    "    lenet_loss_history_1.append(loss_history)\n",
    "    lenet_train_acc_history_1.append(accuracy)\n",
    "    lenet_test_acc_history_1.append((evaluate(lenet_1, test_loader) / len(test_dataset)) * 100)\n",
    "\n",
    "    print(f\"Epoch {epoch}:\\ntrain loss: {lenet_loss_history_1[-1][-1]}\"\n",
    "          f\"\\ntrain acc:  {float(lenet_train_acc_history_1[-1])} test acc: {float(lenet_test_acc_history_1[-1])}\")"
   ]
  },
  {
   "cell_type": "code",
   "execution_count": 76,
   "id": "7ace27da",
   "metadata": {},
   "outputs": [
    {
     "name": "stderr",
     "output_type": "stream",
     "text": [
      "Epoch:   3%|██▍                                                                      | 1/30 [00:11<05:40, 11.73s/epoch]"
     ]
    },
    {
     "name": "stdout",
     "output_type": "stream",
     "text": [
      "Epoch 0:\n",
      "train loss: 6.152545928955078\n",
      "train acc:  0.283446729183197 test acc: 0.33975085616111755\n"
     ]
    },
    {
     "name": "stderr",
     "output_type": "stream",
     "text": [
      "\r",
      "Epoch:   7%|████▊                                                                    | 2/30 [00:23<05:23, 11.56s/epoch]"
     ]
    },
    {
     "name": "stdout",
     "output_type": "stream",
     "text": [
      "Epoch 1:\n",
      "train loss: 6.097924709320068\n",
      "train acc:  0.680272102355957 test acc: 0.45300111174583435\n"
     ]
    },
    {
     "name": "stderr",
     "output_type": "stream",
     "text": [
      "\r",
      "Epoch:  10%|███████▎                                                                 | 3/30 [00:34<05:08, 11.44s/epoch]"
     ]
    },
    {
     "name": "stdout",
     "output_type": "stream",
     "text": [
      "Epoch 2:\n",
      "train loss: 6.1817755699157715\n",
      "train acc:  0.6519274711608887 test acc: 0.45300111174583435\n"
     ]
    },
    {
     "name": "stderr",
     "output_type": "stream",
     "text": [
      "\r",
      "Epoch:  13%|█████████▋                                                               | 4/30 [00:45<04:56, 11.41s/epoch]"
     ]
    },
    {
     "name": "stdout",
     "output_type": "stream",
     "text": [
      "Epoch 3:\n",
      "train loss: 6.081827640533447\n",
      "train acc:  1.3038549423217773 test acc: 0.9060022234916687\n"
     ]
    },
    {
     "name": "stderr",
     "output_type": "stream",
     "text": [
      "\r",
      "Epoch:  17%|████████████▏                                                            | 5/30 [00:57<04:43, 11.36s/epoch]"
     ]
    },
    {
     "name": "stdout",
     "output_type": "stream",
     "text": [
      "Epoch 4:\n",
      "train loss: 5.3458027839660645\n",
      "train acc:  2.3526077270507812 test acc: 1.8120044469833374\n"
     ]
    },
    {
     "name": "stderr",
     "output_type": "stream",
     "text": [
      "\r",
      "Epoch:  20%|██████████████▌                                                          | 6/30 [01:08<04:33, 11.38s/epoch]"
     ]
    },
    {
     "name": "stdout",
     "output_type": "stream",
     "text": [
      "Epoch 5:\n",
      "train loss: 5.388309001922607\n",
      "train acc:  3.7414965629577637 test acc: 2.831256866455078\n"
     ]
    },
    {
     "name": "stderr",
     "output_type": "stream",
     "text": [
      "\r",
      "Epoch:  23%|█████████████████                                                        | 7/30 [01:20<04:25, 11.54s/epoch]"
     ]
    },
    {
     "name": "stdout",
     "output_type": "stream",
     "text": [
      "Epoch 6:\n",
      "train loss: 4.266805648803711\n",
      "train acc:  6.264172554016113 test acc: 3.9637598991394043\n"
     ]
    },
    {
     "name": "stderr",
     "output_type": "stream",
     "text": [
      "\r",
      "Epoch:  27%|███████████████████▍                                                     | 8/30 [01:32<04:18, 11.76s/epoch]"
     ]
    },
    {
     "name": "stdout",
     "output_type": "stream",
     "text": [
      "Epoch 7:\n",
      "train loss: 3.786722183227539\n",
      "train acc:  9.212018013000488 test acc: 7.474518775939941\n"
     ]
    },
    {
     "name": "stderr",
     "output_type": "stream",
     "text": [
      "\r",
      "Epoch:  30%|█████████████████████▉                                                   | 9/30 [01:45<04:12, 12.01s/epoch]"
     ]
    },
    {
     "name": "stdout",
     "output_type": "stream",
     "text": [
      "Epoch 8:\n",
      "train loss: 4.407733917236328\n",
      "train acc:  13.71882152557373 test acc: 8.833521842956543\n"
     ]
    },
    {
     "name": "stderr",
     "output_type": "stream",
     "text": [
      "\r",
      "Epoch:  33%|████████████████████████                                                | 10/30 [01:57<04:01, 12.07s/epoch]"
     ]
    },
    {
     "name": "stdout",
     "output_type": "stream",
     "text": [
      "Epoch 9:\n",
      "train loss: 4.184743881225586\n",
      "train acc:  18.39569091796875 test acc: 9.626274108886719\n"
     ]
    },
    {
     "name": "stderr",
     "output_type": "stream",
     "text": [
      "\r",
      "Epoch:  37%|██████████████████████████▍                                             | 11/30 [02:09<03:51, 12.17s/epoch]"
     ]
    },
    {
     "name": "stdout",
     "output_type": "stream",
     "text": [
      "Epoch 10:\n",
      "train loss: 3.2539162635803223\n",
      "train acc:  21.93877601623535 test acc: 11.325027465820312\n"
     ]
    },
    {
     "name": "stderr",
     "output_type": "stream",
     "text": [
      "\r",
      "Epoch:  40%|████████████████████████████▊                                           | 12/30 [02:22<03:40, 12.24s/epoch]"
     ]
    },
    {
     "name": "stdout",
     "output_type": "stream",
     "text": [
      "Epoch 11:\n",
      "train loss: 3.1173038482666016\n",
      "train acc:  25.850339889526367 test acc: 13.47678279876709\n"
     ]
    },
    {
     "name": "stderr",
     "output_type": "stream",
     "text": [
      "\r",
      "Epoch:  43%|███████████████████████████████▏                                        | 13/30 [02:34<03:27, 12.23s/epoch]"
     ]
    },
    {
     "name": "stdout",
     "output_type": "stream",
     "text": [
      "Epoch 12:\n",
      "train loss: 3.599165439605713\n",
      "train acc:  31.235828399658203 test acc: 13.250282287597656\n"
     ]
    },
    {
     "name": "stderr",
     "output_type": "stream",
     "text": [
      "\r",
      "Epoch:  47%|█████████████████████████████████▌                                      | 14/30 [02:46<03:13, 12.12s/epoch]"
     ]
    },
    {
     "name": "stdout",
     "output_type": "stream",
     "text": [
      "Epoch 13:\n",
      "train loss: 4.02411413192749\n",
      "train acc:  33.92857360839844 test acc: 12.344280242919922\n"
     ]
    },
    {
     "name": "stderr",
     "output_type": "stream",
     "text": [
      "\r",
      "Epoch:  50%|████████████████████████████████████                                    | 15/30 [02:58<03:00, 12.03s/epoch]"
     ]
    },
    {
     "name": "stdout",
     "output_type": "stream",
     "text": [
      "Epoch 14:\n",
      "train loss: 2.0384557247161865\n",
      "train acc:  37.15986633300781 test acc: 16.534542083740234\n"
     ]
    },
    {
     "name": "stderr",
     "output_type": "stream",
     "text": [
      "\r",
      "Epoch:  53%|██████████████████████████████████████▍                                 | 16/30 [03:10<02:48, 12.00s/epoch]"
     ]
    },
    {
     "name": "stdout",
     "output_type": "stream",
     "text": [
      "Epoch 15:\n",
      "train loss: 2.47480845451355\n",
      "train acc:  39.56916046142578 test acc: 15.40203857421875\n"
     ]
    },
    {
     "name": "stderr",
     "output_type": "stream",
     "text": [
      "\r",
      "Epoch:  57%|████████████████████████████████████████▊                               | 17/30 [03:21<02:35, 11.95s/epoch]"
     ]
    },
    {
     "name": "stdout",
     "output_type": "stream",
     "text": [
      "Epoch 16:\n",
      "train loss: 2.788789749145508\n",
      "train acc:  42.43197250366211 test acc: 18.233295440673828\n"
     ]
    },
    {
     "name": "stderr",
     "output_type": "stream",
     "text": [
      "\r",
      "Epoch:  60%|███████████████████████████████████████████▏                            | 18/30 [03:33<02:22, 11.87s/epoch]"
     ]
    },
    {
     "name": "stdout",
     "output_type": "stream",
     "text": [
      "Epoch 17:\n",
      "train loss: 2.4573254585266113\n",
      "train acc:  45.1814079284668 test acc: 15.968290328979492\n"
     ]
    },
    {
     "name": "stderr",
     "output_type": "stream",
     "text": [
      "\r",
      "Epoch:  63%|█████████████████████████████████████████████▌                          | 19/30 [03:45<02:10, 11.87s/epoch]"
     ]
    },
    {
     "name": "stdout",
     "output_type": "stream",
     "text": [
      "Epoch 18:\n",
      "train loss: 2.2931251525878906\n",
      "train acc:  48.61111068725586 test acc: 13.250282287597656\n"
     ]
    },
    {
     "name": "stderr",
     "output_type": "stream",
     "text": [
      "\r",
      "Epoch:  67%|████████████████████████████████████████████████                        | 20/30 [03:57<01:58, 11.83s/epoch]"
     ]
    },
    {
     "name": "stdout",
     "output_type": "stream",
     "text": [
      "Epoch 19:\n",
      "train loss: 2.230670213699341\n",
      "train acc:  49.404762268066406 test acc: 16.98754119873047\n"
     ]
    },
    {
     "name": "stderr",
     "output_type": "stream",
     "text": [
      "\r",
      "Epoch:  70%|██████████████████████████████████████████████████▍                     | 21/30 [04:09<01:47, 11.90s/epoch]"
     ]
    },
    {
     "name": "stdout",
     "output_type": "stream",
     "text": [
      "Epoch 20:\n",
      "train loss: 1.836533546447754\n",
      "train acc:  50.878684997558594 test acc: 17.55379295349121\n"
     ]
    },
    {
     "name": "stderr",
     "output_type": "stream",
     "text": [
      "\r",
      "Epoch:  73%|████████████████████████████████████████████████████▊                   | 22/30 [04:21<01:35, 11.90s/epoch]"
     ]
    },
    {
     "name": "stdout",
     "output_type": "stream",
     "text": [
      "Epoch 21:\n",
      "train loss: 1.7431702613830566\n",
      "train acc:  49.91496658325195 test acc: 16.42129135131836\n"
     ]
    },
    {
     "name": "stderr",
     "output_type": "stream",
     "text": [
      "\r",
      "Epoch:  77%|███████████████████████████████████████████████████████▏                | 23/30 [04:32<01:22, 11.81s/epoch]"
     ]
    },
    {
     "name": "stdout",
     "output_type": "stream",
     "text": [
      "Epoch 22:\n",
      "train loss: 3.9675891399383545\n",
      "train acc:  53.96825408935547 test acc: 12.797281265258789\n"
     ]
    },
    {
     "name": "stderr",
     "output_type": "stream",
     "text": [
      "\r",
      "Epoch:  80%|█████████████████████████████████████████████████████████▌              | 24/30 [04:44<01:11, 11.84s/epoch]"
     ]
    },
    {
     "name": "stdout",
     "output_type": "stream",
     "text": [
      "Epoch 23:\n",
      "train loss: 3.638216018676758\n",
      "train acc:  51.89909362792969 test acc: 14.949037551879883\n"
     ]
    },
    {
     "name": "stderr",
     "output_type": "stream",
     "text": [
      "\r",
      "Epoch:  83%|████████████████████████████████████████████████████████████            | 25/30 [04:56<00:59, 11.84s/epoch]"
     ]
    },
    {
     "name": "stdout",
     "output_type": "stream",
     "text": [
      "Epoch 24:\n",
      "train loss: 1.9897854328155518\n",
      "train acc:  56.9444465637207 test acc: 18.006793975830078\n"
     ]
    },
    {
     "name": "stderr",
     "output_type": "stream",
     "text": [
      "\r",
      "Epoch:  87%|██████████████████████████████████████████████████████████████▍         | 26/30 [05:08<00:47, 11.93s/epoch]"
     ]
    },
    {
     "name": "stdout",
     "output_type": "stream",
     "text": [
      "Epoch 25:\n",
      "train loss: 0.9851773381233215\n",
      "train acc:  53.99660110473633 test acc: 17.667043685913086\n"
     ]
    },
    {
     "name": "stderr",
     "output_type": "stream",
     "text": [
      "\r",
      "Epoch:  90%|████████████████████████████████████████████████████████████████▊       | 27/30 [05:20<00:35, 11.94s/epoch]"
     ]
    },
    {
     "name": "stdout",
     "output_type": "stream",
     "text": [
      "Epoch 26:\n",
      "train loss: 1.8955540657043457\n",
      "train acc:  52.409297943115234 test acc: 16.874292373657227\n"
     ]
    },
    {
     "name": "stderr",
     "output_type": "stream",
     "text": [
      "\r",
      "Epoch:  93%|███████████████████████████████████████████████████████████████████▏    | 28/30 [05:32<00:23, 11.87s/epoch]"
     ]
    },
    {
     "name": "stdout",
     "output_type": "stream",
     "text": [
      "Epoch 27:\n",
      "train loss: 1.2715600728988647\n",
      "train acc:  56.0941047668457 test acc: 17.893543243408203\n"
     ]
    },
    {
     "name": "stderr",
     "output_type": "stream",
     "text": [
      "\r",
      "Epoch:  97%|█████████████████████████████████████████████████████████████████████▌  | 29/30 [05:44<00:11, 11.87s/epoch]"
     ]
    },
    {
     "name": "stdout",
     "output_type": "stream",
     "text": [
      "Epoch 28:\n",
      "train loss: 2.2369072437286377\n",
      "train acc:  56.1224479675293 test acc: 12.684030532836914\n"
     ]
    },
    {
     "name": "stderr",
     "output_type": "stream",
     "text": [
      "Epoch: 100%|████████████████████████████████████████████████████████████████████████| 30/30 [05:55<00:00, 11.86s/epoch]"
     ]
    },
    {
     "name": "stdout",
     "output_type": "stream",
     "text": [
      "Epoch 29:\n",
      "train loss: 2.760647773742676\n",
      "train acc:  51.2755126953125 test acc: 16.534542083740234\n"
     ]
    },
    {
     "name": "stderr",
     "output_type": "stream",
     "text": [
      "\n"
     ]
    }
   ],
   "source": [
    "lenet_2 = LeNet(num_classes=num_classes).to(device)\n",
    "\n",
    "# Adam optimizer\n",
    "lenet_optimizer_sgd = optim.SGD(lenet_2.parameters(), lr=lenet_learning_rate)\n",
    "\n",
    "# loss function\n",
    "loss_function = nn.CrossEntropyLoss()\n",
    "\n",
    "# for epoch in range(nepochs):\n",
    "#     running_loss = 0.0\n",
    "#     start_time = time.time()\n",
    "#     for i, data in enumerate(train_loader, 0):\n",
    "#         inputs, labels = data[0].to(device), data[1].to(device)\n",
    "#         optimizer.zero_grad()\n",
    "        \n",
    "#         output = lenetModel(inputs)\n",
    "#         loss = LossFunction(output, labels)\n",
    "#         loss.backward()\n",
    "#         optimizer.step()\n",
    "        \n",
    "#         end_time = time.time()\n",
    "#         elapsed_time = (end_time - start_time)/60\n",
    "#         running_loss += loss.item()\n",
    "#         if (i+1) % 20 == 0:\n",
    "#             print('[epoch: %d, %5d] loss: %.3f' % (epoch + 1, i + 1, running_loss / 20))\n",
    "#             print(f\"Time: {elapsed_time} min\")\n",
    "#             running_loss = 0.0\n",
    "#     print()\n",
    "lenet_2.train()\n",
    "lenet_loss_history_2 = []\n",
    "lenet_train_acc_history_2 = []\n",
    "lenet_test_acc_history_2 = []\n",
    "for epoch in tqdm(range(lenet_nepochs),\n",
    "                  desc=f\"Epoch\",\n",
    "                  unit=\"epoch\",\n",
    "                  disable=False):\n",
    "    loss_history, accuracy = (train_epoch(model=lenet_2, \n",
    "                                          train_data=train_loader, \n",
    "                                          LossFunction=loss_function, \n",
    "                                          optimizer=lenet_optimizer_sgd))\n",
    "    lenet_loss_history_2.append(loss_history)\n",
    "    lenet_train_acc_history_2.append(accuracy)\n",
    "    lenet_test_acc_history_2.append((evaluate(lenet_2, test_loader) / len(test_dataset)) * 100)\n",
    "\n",
    "    print(f\"Epoch {epoch}:\\ntrain loss: {lenet_loss_history_2[-1][-1]}\"\n",
    "          f\"\\ntrain acc:  {float(lenet_train_acc_history_2[-1])} test acc: {float(lenet_test_acc_history_2[-1])}\")"
   ]
  },
  {
   "cell_type": "code",
   "execution_count": 79,
   "id": "725e94cc",
   "metadata": {},
   "outputs": [
    {
     "name": "stdout",
     "output_type": "stream",
     "text": [
      "Lenet + Adam Final accuracy = 19.71%\n",
      "Lenet + SGD Final accuracy = 16.53%\n"
     ]
    },
    {
     "data": {
      "image/png": "[encoded data removed]",
      "text/plain": [
       "<Figure size 1080x720 with 4 Axes>"
      ]
     },
     "metadata": {
      "needs_background": "light"
     },
     "output_type": "display_data"
    }
   ],
   "source": [
    "lenet_fig, lenet_axs = plt.subplots(2, 2, figsize=(15, 10))\n",
    "lenet_axs[0,0].plot(list(map(lambda x: x[-1], lenet_loss_history_1)))\n",
    "lenet_axs[0,0].grid(axis='y')\n",
    "lenet_axs[0,0].set_title(\"Neural Network Loss: Lenet + Adam\")    \n",
    "lenet_axs[0,0].set_xlabel(\"Number of Epochs\")\n",
    "lenet_axs[0,0].set_ylabel(\"Loss\")\n",
    "# ax1.show()\n",
    "\n",
    "lenet_axs[0,1].plot(list(map(lambda x: x[-1], lenet_loss_history_2)))\n",
    "lenet_axs[0,1].grid(axis='y')\n",
    "lenet_axs[0,1].set_title(\"Neural Network Loss: Lenet + SGD\")    \n",
    "lenet_axs[0,1].set_xlabel(\"Number of Epochs\")\n",
    "lenet_axs[0,1].set_ylabel(\"Loss\")\n",
    "# ax2.show()\n",
    "\n",
    "lenet_axs[1,0].plot(list(map(lambda x: float(x), lenet_train_acc_history_1)), label=\"Train\")\n",
    "lenet_axs[1,0].plot(list(map(lambda x: float(x), lenet_test_acc_history_1)), label=\"Test\")\n",
    "lenet_axs[1,0].grid(axis='y')\n",
    "lenet_axs[1,0].set_title(\"Neural Network Accuracy: Lenet + Adam\")    \n",
    "lenet_axs[1,0].set_xlabel(\"Number of Epochs\")\n",
    "lenet_axs[1,0].set_ylabel(\"Loss\")\n",
    "lenet_axs[1,0].legend()\n",
    "\n",
    "lenet_axs[1,1].plot(list(map(lambda x: float(x), lenet_train_acc_history_2)), label=\"Train\")\n",
    "lenet_axs[1,1].plot(list(map(lambda x: float(x), lenet_test_acc_history_2)), label=\"Test\")\n",
    "lenet_axs[1,1].grid(axis='y')\n",
    "lenet_axs[1,1].set_title(\"Neural Network Accuracy: Lenet + SGD\")    \n",
    "lenet_axs[1,1].set_xlabel(\"Number of Epochs\")\n",
    "lenet_axs[1,1].set_ylabel(\"Loss\")\n",
    "lenet_axs[1,1].legend()\n",
    "\n",
    "lenet_accuracy_1 = evaluate(lenet_1, test_loader)\n",
    "print(f\"Lenet + Adam Final accuracy = {lenet_accuracy_1 / len(test_dataset)*100:.2f}%\")\n",
    "lenet_accuracy_2 = evaluate(lenet_2, test_loader)\n",
    "print(f\"Lenet + SGD Final accuracy = {lenet_accuracy_2 / len(test_dataset)*100:.2f}%\")"
   ]
  },
  {
   "cell_type": "markdown",
   "id": "463e128c",
   "metadata": {},
   "source": [
    "<br><span style=\"color:black;font-size:35px\">**VGG16**</span>"
   ]
  },
  {
   "cell_type": "code",
   "execution_count": 14,
   "id": "d182f5fd",
   "metadata": {},
   "outputs": [],
   "source": [
    "vgg_learning_rate = 1e-2\n",
    "vgg_nepochs = 20\n",
    "vgg_batch_size = 32\n",
    "\n",
    "vgg_transform = T.Compose([T.Resize(size=(32,32)), \n",
    "                            T.RandomHorizontalFlip(), \n",
    "                            T.ToTensor(), \n",
    "                            T.Normalize(mean=[0.485, 0.456, 0.406], \n",
    "                                        std=[0.229, 0.224, 0.225])])\n",
    "\n",
    "loss_function = nn.CrossEntropyLoss()"
   ]
  },
  {
   "cell_type": "code",
   "execution_count": 15,
   "id": "2299ad2c",
   "metadata": {},
   "outputs": [
    {
     "name": "stdout",
     "output_type": "stream",
     "text": [
      "3528\n",
      "883\n"
     ]
    }
   ],
   "source": [
    "# Split dataset into train and test sets\n",
    "vgg_fish_data = QutFishDataset(data_path=data_path, transform=vgg_transform)\n",
    "vgg_train_size = int(0.8 * len(fish_data))\n",
    "vgg_test_size = len(fish_data) - train_size\n",
    "vgg_train_dataset, vgg_test_dataset = random_split(vgg_fish_data, [vgg_train_size, vgg_test_size])\n",
    "print(len(vgg_train_dataset))\n",
    "print(len(vgg_test_dataset))"
   ]
  },
  {
   "cell_type": "code",
   "execution_count": 16,
   "id": "4ff168a7",
   "metadata": {},
   "outputs": [
    {
     "name": "stdout",
     "output_type": "stream",
     "text": [
      "111\n"
     ]
    }
   ],
   "source": [
    "# train and test loader\n",
    "vgg_train_loader = DataLoader(vgg_train_dataset, batch_size=vgg_batch_size, shuffle=True)\n",
    "vgg_test_loader = DataLoader(vgg_test_dataset, batch_size=vgg_batch_size, shuffle=False)\n",
    "print(len(vgg_train_loader))"
   ]
  },
  {
   "cell_type": "code",
   "execution_count": 24,
   "id": "6e2db3fa",
   "metadata": {},
   "outputs": [
    {
     "name": "stderr",
     "output_type": "stream",
     "text": [
      "Epoch:   5%|███▋                                                                     | 1/20 [00:13<04:09, 13.12s/epoch]"
     ]
    },
    {
     "name": "stdout",
     "output_type": "stream",
     "text": [
      "Epoch 0:\n",
      "train loss: 6.747262477874756\n",
      "train acc:  1.0770975351333618 test acc: 1.5855038166046143\n"
     ]
    },
    {
     "name": "stderr",
     "output_type": "stream",
     "text": [
      "\r",
      "Epoch:  10%|███████▎                                                                 | 2/20 [00:26<04:01, 13.41s/epoch]"
     ]
    },
    {
     "name": "stdout",
     "output_type": "stream",
     "text": [
      "Epoch 1:\n",
      "train loss: 5.225175380706787\n",
      "train acc:  3.0328798294067383 test acc: 2.944507360458374\n"
     ]
    },
    {
     "name": "stderr",
     "output_type": "stream",
     "text": [
      "\r",
      "Epoch:  15%|██████████▉                                                              | 3/20 [00:40<03:53, 13.72s/epoch]"
     ]
    },
    {
     "name": "stdout",
     "output_type": "stream",
     "text": [
      "Epoch 2:\n",
      "train loss: 4.459995269775391\n",
      "train acc:  6.405895709991455 test acc: 4.530011177062988\n"
     ]
    },
    {
     "name": "stderr",
     "output_type": "stream",
     "text": [
      "\r",
      "Epoch:  20%|██████████████▌                                                          | 4/20 [00:54<03:37, 13.57s/epoch]"
     ]
    },
    {
     "name": "stdout",
     "output_type": "stream",
     "text": [
      "Epoch 3:\n",
      "train loss: 4.899972915649414\n",
      "train acc:  10.005668640136719 test acc: 6.795016765594482\n"
     ]
    },
    {
     "name": "stderr",
     "output_type": "stream",
     "text": [
      "\r",
      "Epoch:  25%|██████████████████▎                                                      | 5/20 [01:07<03:22, 13.47s/epoch]"
     ]
    },
    {
     "name": "stdout",
     "output_type": "stream",
     "text": [
      "Epoch 4:\n",
      "train loss: 2.723236560821533\n",
      "train acc:  15.391157150268555 test acc: 9.173272132873535\n"
     ]
    },
    {
     "name": "stderr",
     "output_type": "stream",
     "text": [
      "\r",
      "Epoch:  30%|█████████████████████▉                                                   | 6/20 [01:20<03:08, 13.47s/epoch]"
     ]
    },
    {
     "name": "stdout",
     "output_type": "stream",
     "text": [
      "Epoch 5:\n",
      "train loss: 2.419525384902954\n",
      "train acc:  21.201814651489258 test acc: 13.703283309936523\n"
     ]
    },
    {
     "name": "stderr",
     "output_type": "stream",
     "text": [
      "\r",
      "Epoch:  35%|█████████████████████████▌                                               | 7/20 [01:34<02:56, 13.56s/epoch]"
     ]
    },
    {
     "name": "stdout",
     "output_type": "stream",
     "text": [
      "Epoch 6:\n",
      "train loss: 3.5463831424713135\n",
      "train acc:  27.551021575927734 test acc: 11.778029441833496\n"
     ]
    },
    {
     "name": "stderr",
     "output_type": "stream",
     "text": [
      "\r",
      "Epoch:  40%|█████████████████████████████▏                                           | 8/20 [01:48<02:42, 13.53s/epoch]"
     ]
    },
    {
     "name": "stdout",
     "output_type": "stream",
     "text": [
      "Epoch 7:\n",
      "train loss: 2.993950128555298\n",
      "train acc:  34.89229202270508 test acc: 16.42129135131836\n"
     ]
    },
    {
     "name": "stderr",
     "output_type": "stream",
     "text": [
      "\r",
      "Epoch:  45%|████████████████████████████████▊                                        | 9/20 [02:01<02:27, 13.41s/epoch]"
     ]
    },
    {
     "name": "stdout",
     "output_type": "stream",
     "text": [
      "Epoch 8:\n",
      "train loss: 1.6135988235473633\n",
      "train acc:  41.89342498779297 test acc: 20.61155128479004\n"
     ]
    },
    {
     "name": "stderr",
     "output_type": "stream",
     "text": [
      "\r",
      "Epoch:  50%|████████████████████████████████████                                    | 10/20 [02:15<02:16, 13.63s/epoch]"
     ]
    },
    {
     "name": "stdout",
     "output_type": "stream",
     "text": [
      "Epoch 9:\n",
      "train loss: 2.2446200847625732\n",
      "train acc:  48.55442428588867 test acc: 23.103055953979492\n"
     ]
    },
    {
     "name": "stderr",
     "output_type": "stream",
     "text": [
      "\r",
      "Epoch:  55%|███████████████████████████████████████▌                                | 11/20 [02:28<02:01, 13.53s/epoch]"
     ]
    },
    {
     "name": "stdout",
     "output_type": "stream",
     "text": [
      "Epoch 10:\n",
      "train loss: 2.6722254753112793\n",
      "train acc:  55.6689338684082 test acc: 25.02831268310547\n"
     ]
    },
    {
     "name": "stderr",
     "output_type": "stream",
     "text": [
      "\r",
      "Epoch:  60%|███████████████████████████████████████████▏                            | 12/20 [02:41<01:47, 13.44s/epoch]"
     ]
    },
    {
     "name": "stdout",
     "output_type": "stream",
     "text": [
      "Epoch 11:\n",
      "train loss: 1.2994722127914429\n",
      "train acc:  61.479591369628906 test acc: 26.840316772460938\n"
     ]
    },
    {
     "name": "stderr",
     "output_type": "stream",
     "text": [
      "\r",
      "Epoch:  65%|██████████████████████████████████████████████▊                         | 13/20 [02:55<01:33, 13.41s/epoch]"
     ]
    },
    {
     "name": "stdout",
     "output_type": "stream",
     "text": [
      "Epoch 12:\n",
      "train loss: 0.8501108884811401\n",
      "train acc:  68.84920501708984 test acc: 26.61381721496582\n"
     ]
    },
    {
     "name": "stderr",
     "output_type": "stream",
     "text": [
      "\r",
      "Epoch:  70%|██████████████████████████████████████████████████▍                     | 14/20 [03:08<01:20, 13.38s/epoch]"
     ]
    },
    {
     "name": "stdout",
     "output_type": "stream",
     "text": [
      "Epoch 13:\n",
      "train loss: 0.6101729273796082\n",
      "train acc:  74.31973266601562 test acc: 26.38731575012207\n"
     ]
    },
    {
     "name": "stderr",
     "output_type": "stream",
     "text": [
      "\r",
      "Epoch:  75%|██████████████████████████████████████████████████████                  | 15/20 [03:22<01:07, 13.43s/epoch]"
     ]
    },
    {
     "name": "stdout",
     "output_type": "stream",
     "text": [
      "Epoch 14:\n",
      "train loss: 1.6009447574615479\n",
      "train acc:  77.23922729492188 test acc: 27.746318817138672\n"
     ]
    },
    {
     "name": "stderr",
     "output_type": "stream",
     "text": [
      "\r",
      "Epoch:  80%|█████████████████████████████████████████████████████████▌              | 16/20 [03:35<00:53, 13.40s/epoch]"
     ]
    },
    {
     "name": "stdout",
     "output_type": "stream",
     "text": [
      "Epoch 15:\n",
      "train loss: 1.3834806680679321\n",
      "train acc:  80.95238494873047 test acc: 25.594562530517578\n"
     ]
    },
    {
     "name": "stderr",
     "output_type": "stream",
     "text": [
      "\r",
      "Epoch:  85%|█████████████████████████████████████████████████████████████▏          | 17/20 [03:49<00:40, 13.49s/epoch]"
     ]
    },
    {
     "name": "stdout",
     "output_type": "stream",
     "text": [
      "Epoch 16:\n",
      "train loss: 0.5918816924095154\n",
      "train acc:  84.89228820800781 test acc: 29.558320999145508\n"
     ]
    },
    {
     "name": "stderr",
     "output_type": "stream",
     "text": [
      "\r",
      "Epoch:  90%|████████████████████████████████████████████████████████████████▊       | 18/20 [04:02<00:26, 13.42s/epoch]"
     ]
    },
    {
     "name": "stdout",
     "output_type": "stream",
     "text": [
      "Epoch 17:\n",
      "train loss: 0.5647713541984558\n",
      "train acc:  87.6700668334961 test acc: 30.57757568359375\n"
     ]
    },
    {
     "name": "stderr",
     "output_type": "stream",
     "text": [
      "\r",
      "Epoch:  95%|████████████████████████████████████████████████████████████████████▍   | 19/20 [04:15<00:13, 13.46s/epoch]"
     ]
    },
    {
     "name": "stdout",
     "output_type": "stream",
     "text": [
      "Epoch 18:\n",
      "train loss: 0.05182453989982605\n",
      "train acc:  89.56916046142578 test acc: 33.97508239746094\n"
     ]
    },
    {
     "name": "stderr",
     "output_type": "stream",
     "text": [
      "Epoch: 100%|████████████████████████████████████████████████████████████████████████| 20/20 [04:29<00:00, 13.48s/epoch]"
     ]
    },
    {
     "name": "stdout",
     "output_type": "stream",
     "text": [
      "Epoch 19:\n",
      "train loss: 0.2729041278362274\n",
      "train acc:  92.37528228759766 test acc: 33.74858474731445\n"
     ]
    },
    {
     "name": "stderr",
     "output_type": "stream",
     "text": [
      "\n"
     ]
    }
   ],
   "source": [
    "vgg = VGG16(hidden_features=512, nout=num_classes, dropout=False).to(device)\n",
    "# print(vgg)\n",
    "\n",
    "vgg_optimizer_sgd = optim.SGD(vgg.parameters(), lr=vgg_learning_rate)\n",
    "\n",
    "loss_function = nn.CrossEntropyLoss()\n",
    "\n",
    "vgg.train()\n",
    "vgg_loss_history = []\n",
    "vgg_train_acc_history = []\n",
    "vgg_test_acc_history = []\n",
    "for epoch in tqdm(range(vgg_nepochs),\n",
    "                  desc=f\"Epoch\",\n",
    "                  unit=\"epoch\",\n",
    "                  disable=False):\n",
    "#     vgg_loss_history.append\n",
    "    loss_history, accuracy = (train_epoch(model=vgg, \n",
    "                                        train_data=train_loader, \n",
    "                                        LossFunction=loss_function, \n",
    "                                        optimizer=vgg_optimizer_sgd))\n",
    "    vgg_loss_history.append(loss_history)\n",
    "    vgg_train_acc_history.append(accuracy)\n",
    "    vgg_test_acc_history.append((evaluate(vgg, test_loader) / len(test_dataset)) * 100)\n",
    "\n",
    "    print(f\"Epoch {epoch}:\\ntrain loss: {vgg_loss_history[-1][-1]}\"\n",
    "          f\"\\ntrain acc:  {float(vgg_train_acc_history[-1])} test acc: {float(vgg_test_acc_history[-1])}\")"
   ]
  },
  {
   "cell_type": "code",
   "execution_count": 47,
   "id": "c1fb3ce8",
   "metadata": {
    "scrolled": true
   },
   "outputs": [
    {
     "name": "stderr",
     "output_type": "stream",
     "text": [
      "Epoch:   5%|███▋                                                                     | 1/20 [00:13<04:17, 13.53s/epoch]"
     ]
    },
    {
     "name": "stdout",
     "output_type": "stream",
     "text": [
      "Epoch 0:\n",
      "train loss: 6.237982749938965\n",
      "train acc:  0.36848074197769165 test acc: 0.6795017123222351\n"
     ]
    },
    {
     "name": "stderr",
     "output_type": "stream",
     "text": [
      "\r",
      "Epoch:  10%|███████▎                                                                 | 2/20 [00:27<04:09, 13.88s/epoch]"
     ]
    },
    {
     "name": "stdout",
     "output_type": "stream",
     "text": [
      "Epoch 1:\n",
      "train loss: 6.275821685791016\n",
      "train acc:  0.566893458366394 test acc: 1.3590034246444702\n"
     ]
    },
    {
     "name": "stderr",
     "output_type": "stream",
     "text": [
      "\r",
      "Epoch:  15%|██████████▉                                                              | 3/20 [00:41<03:53, 13.72s/epoch]"
     ]
    },
    {
     "name": "stdout",
     "output_type": "stream",
     "text": [
      "Epoch 2:\n",
      "train loss: 5.931724548339844\n",
      "train acc:  1.133786916732788 test acc: 2.1517553329467773\n"
     ]
    },
    {
     "name": "stderr",
     "output_type": "stream",
     "text": [
      "\r",
      "Epoch:  20%|██████████████▌                                                          | 4/20 [00:54<03:37, 13.57s/epoch]"
     ]
    },
    {
     "name": "stdout",
     "output_type": "stream",
     "text": [
      "Epoch 3:\n",
      "train loss: 5.940964698791504\n",
      "train acc:  1.5873016119003296 test acc: 2.944507360458374\n"
     ]
    },
    {
     "name": "stderr",
     "output_type": "stream",
     "text": [
      "\r",
      "Epoch:  25%|██████████████████▎                                                      | 5/20 [01:07<03:21, 13.47s/epoch]"
     ]
    },
    {
     "name": "stdout",
     "output_type": "stream",
     "text": [
      "Epoch 4:\n",
      "train loss: 5.9701690673828125\n",
      "train acc:  2.0691609382629395 test acc: 2.831256866455078\n"
     ]
    },
    {
     "name": "stderr",
     "output_type": "stream",
     "text": [
      "\r",
      "Epoch:  30%|█████████████████████▉                                                   | 6/20 [01:21<03:09, 13.51s/epoch]"
     ]
    },
    {
     "name": "stdout",
     "output_type": "stream",
     "text": [
      "Epoch 5:\n",
      "train loss: 5.785643100738525\n",
      "train acc:  2.8344671726226807 test acc: 4.077010154724121\n"
     ]
    },
    {
     "name": "stderr",
     "output_type": "stream",
     "text": [
      "\r",
      "Epoch:  35%|█████████████████████████▌                                               | 7/20 [01:34<02:55, 13.50s/epoch]"
     ]
    },
    {
     "name": "stdout",
     "output_type": "stream",
     "text": [
      "Epoch 6:\n",
      "train loss: 5.0221052169799805\n",
      "train acc:  3.6564626693725586 test acc: 4.077010154724121\n"
     ]
    },
    {
     "name": "stderr",
     "output_type": "stream",
     "text": [
      "\r",
      "Epoch:  40%|█████████████████████████████▏                                           | 8/20 [01:48<02:42, 13.53s/epoch]"
     ]
    },
    {
     "name": "stdout",
     "output_type": "stream",
     "text": [
      "Epoch 7:\n",
      "train loss: 5.3978071212768555\n",
      "train acc:  5.1587300300598145 test acc: 5.436013698577881\n"
     ]
    },
    {
     "name": "stderr",
     "output_type": "stream",
     "text": [
      "\r",
      "Epoch:  45%|████████████████████████████████▊                                        | 9/20 [02:02<02:30, 13.70s/epoch]"
     ]
    },
    {
     "name": "stdout",
     "output_type": "stream",
     "text": [
      "Epoch 8:\n",
      "train loss: 5.389779090881348\n",
      "train acc:  5.753968238830566 test acc: 6.908267021179199\n"
     ]
    },
    {
     "name": "stderr",
     "output_type": "stream",
     "text": [
      "\r",
      "Epoch:  50%|████████████████████████████████████                                    | 10/20 [02:15<02:16, 13.61s/epoch]"
     ]
    },
    {
     "name": "stdout",
     "output_type": "stream",
     "text": [
      "Epoch 9:\n",
      "train loss: 5.03680419921875\n",
      "train acc:  8.106575965881348 test acc: 8.493770599365234\n"
     ]
    },
    {
     "name": "stderr",
     "output_type": "stream",
     "text": [
      "\r",
      "Epoch:  55%|███████████████████████████████████████▌                                | 11/20 [02:29<02:02, 13.56s/epoch]"
     ]
    },
    {
     "name": "stdout",
     "output_type": "stream",
     "text": [
      "Epoch 10:\n",
      "train loss: 5.620993614196777\n",
      "train acc:  8.758503913879395 test acc: 8.60702133178711\n"
     ]
    },
    {
     "name": "stderr",
     "output_type": "stream",
     "text": [
      "\r",
      "Epoch:  60%|███████████████████████████████████████████▏                            | 12/20 [02:42<01:48, 13.53s/epoch]"
     ]
    },
    {
     "name": "stdout",
     "output_type": "stream",
     "text": [
      "Epoch 11:\n",
      "train loss: 4.926913738250732\n",
      "train acc:  11.678004264831543 test acc: 10.532276153564453\n"
     ]
    },
    {
     "name": "stderr",
     "output_type": "stream",
     "text": [
      "\r",
      "Epoch:  65%|██████████████████████████████████████████████▊                         | 13/20 [02:56<01:34, 13.51s/epoch]"
     ]
    },
    {
     "name": "stdout",
     "output_type": "stream",
     "text": [
      "Epoch 12:\n",
      "train loss: 3.9941272735595703\n",
      "train acc:  13.775510787963867 test acc: 10.872027397155762\n"
     ]
    },
    {
     "name": "stderr",
     "output_type": "stream",
     "text": [
      "\r",
      "Epoch:  70%|██████████████████████████████████████████████████▍                     | 14/20 [03:09<01:20, 13.47s/epoch]"
     ]
    },
    {
     "name": "stdout",
     "output_type": "stream",
     "text": [
      "Epoch 13:\n",
      "train loss: 2.92386794090271\n",
      "train acc:  16.581632614135742 test acc: 11.664778709411621\n"
     ]
    },
    {
     "name": "stderr",
     "output_type": "stream",
     "text": [
      "\r",
      "Epoch:  75%|██████████████████████████████████████████████████████                  | 15/20 [03:23<01:07, 13.48s/epoch]"
     ]
    },
    {
     "name": "stdout",
     "output_type": "stream",
     "text": [
      "Epoch 14:\n",
      "train loss: 3.5315122604370117\n",
      "train acc:  18.225624084472656 test acc: 16.76104164123535\n"
     ]
    },
    {
     "name": "stderr",
     "output_type": "stream",
     "text": [
      "\r",
      "Epoch:  80%|█████████████████████████████████████████████████████████▌              | 16/20 [03:36<00:53, 13.46s/epoch]"
     ]
    },
    {
     "name": "stdout",
     "output_type": "stream",
     "text": [
      "Epoch 15:\n",
      "train loss: 3.3204336166381836\n",
      "train acc:  21.8820858001709 test acc: 17.78029441833496\n"
     ]
    },
    {
     "name": "stderr",
     "output_type": "stream",
     "text": [
      "\r",
      "Epoch:  85%|█████████████████████████████████████████████████████████████▏          | 17/20 [03:50<00:40, 13.44s/epoch]"
     ]
    },
    {
     "name": "stdout",
     "output_type": "stream",
     "text": [
      "Epoch 16:\n",
      "train loss: 3.051091194152832\n",
      "train acc:  25.538549423217773 test acc: 17.78029441833496\n"
     ]
    },
    {
     "name": "stderr",
     "output_type": "stream",
     "text": [
      "\r",
      "Epoch:  90%|████████████████████████████████████████████████████████████████▊       | 18/20 [04:03<00:26, 13.46s/epoch]"
     ]
    },
    {
     "name": "stdout",
     "output_type": "stream",
     "text": [
      "Epoch 17:\n",
      "train loss: 4.259647846221924\n",
      "train acc:  27.324262619018555 test acc: 15.855039596557617\n"
     ]
    },
    {
     "name": "stderr",
     "output_type": "stream",
     "text": [
      "\r",
      "Epoch:  95%|████████████████████████████████████████████████████████████████████▍   | 19/20 [04:17<00:13, 13.47s/epoch]"
     ]
    },
    {
     "name": "stdout",
     "output_type": "stream",
     "text": [
      "Epoch 18:\n",
      "train loss: 2.8348135948181152\n",
      "train acc:  31.490930557250977 test acc: 19.479047775268555\n"
     ]
    },
    {
     "name": "stderr",
     "output_type": "stream",
     "text": [
      "Epoch: 100%|████████████████████████████████████████████████████████████████████████| 20/20 [04:30<00:00, 13.52s/epoch]"
     ]
    },
    {
     "name": "stdout",
     "output_type": "stream",
     "text": [
      "Epoch 19:\n",
      "train loss: 2.6494598388671875\n",
      "train acc:  36.11111068725586 test acc: 20.498300552368164\n"
     ]
    },
    {
     "name": "stderr",
     "output_type": "stream",
     "text": [
      "\n"
     ]
    }
   ],
   "source": [
    "vgg_drp = VGG16(hidden_features=512, nout=num_classes, dropout=True).to(device)\n",
    "# print(vgg)\n",
    "\n",
    "vgg_drp_optimizer_sgd = optim.SGD(vgg_drp.parameters(), lr=vgg_learning_rate)\n",
    "\n",
    "vgg_drp.train()\n",
    "vgg_drp_loss_history = []\n",
    "vgg_drp_train_acc_history = []\n",
    "vgg_drp_test_acc_history = []\n",
    "for epoch in tqdm(range(vgg_nepochs),\n",
    "                  desc=f\"Epoch\",\n",
    "                  unit=\"epoch\",\n",
    "                  disable=False):\n",
    "#     vgg_loss_history.append\n",
    "    loss_history, accuracy = (train_epoch(model=vgg_drp, \n",
    "                                        train_data=train_loader, \n",
    "                                        LossFunction=loss_function, \n",
    "                                        optimizer=vgg_drp_optimizer_sgd))\n",
    "    vgg_drp_loss_history.append(loss_history)\n",
    "    vgg_drp_train_acc_history.append(accuracy)\n",
    "    vgg_drp_test_acc_history.append((evaluate(vgg_drp, test_loader) / len(test_dataset)) * 100)\n",
    "\n",
    "    print(f\"Epoch {epoch}:\\ntrain loss: {vgg_drp_loss_history[-1][-1]}\"\n",
    "          f\"\\ntrain acc:  {float(vgg_drp_train_acc_history[-1])} test acc: {float(vgg_drp_test_acc_history[-1])}\")"
   ]
  },
  {
   "cell_type": "code",
   "execution_count": 48,
   "id": "514b822b",
   "metadata": {},
   "outputs": [
    {
     "name": "stdout",
     "output_type": "stream",
     "text": [
      "VGG16 Final accuracy = 33.75%\n",
      "VGG16 (Dropout) Final accuracy = 20.50%\n"
     ]
    },
    {
     "data": {
      "image/png": "[encoded data removed]",
      "text/plain": [
       "<Figure size 1080x720 with 4 Axes>"
      ]
     },
     "metadata": {
      "needs_background": "light"
     },
     "output_type": "display_data"
    }
   ],
   "source": [
    "vgg_fig, vgg_axs = plt.subplots(2, 2, figsize=(15, 10))\n",
    "vgg_axs[0,0].plot(list(map(lambda x: x[-1], vgg_loss_history)))\n",
    "vgg_axs[0,0].grid(axis='y')\n",
    "vgg_axs[0,0].set_title(\"Neural Network Loss: VGG16 + SGD\")    \n",
    "vgg_axs[0,0].set_xlabel(\"Number of Epochs\")\n",
    "vgg_axs[0,0].set_ylabel(\"Loss\")\n",
    "# ax1.show()\n",
    "\n",
    "vgg_axs[0,1].plot(list(map(lambda x: x[-1], vgg_drp_loss_history)))\n",
    "vgg_axs[0,1].grid(axis='y')\n",
    "vgg_axs[0,1].set_title(\"Neural Network Loss: VGG16 (Dropout) + SGD\")    \n",
    "vgg_axs[0,1].set_xlabel(\"Number of Epochs\")\n",
    "vgg_axs[0,1].set_ylabel(\"Loss\")\n",
    "# ax2.show()\n",
    "\n",
    "vgg_axs[1,0].plot(list(map(lambda x: float(x), vgg_train_acc_history)), label=\"Train\")\n",
    "vgg_axs[1,0].plot(list(map(lambda x: float(x), vgg_test_acc_history)), label=\"Test\")\n",
    "vgg_axs[1,0].grid(axis='y')\n",
    "vgg_axs[1,0].set_title(\"Neural Network Accuracy: VGG16 + SGD\")    \n",
    "vgg_axs[1,0].set_xlabel(\"Number of Epochs\")\n",
    "vgg_axs[1,0].set_ylabel(\"Loss\")\n",
    "\n",
    "vgg_axs[1,1].plot(list(map(lambda x: float(x), vgg_drp_train_acc_history)), label=\"Train\")\n",
    "vgg_axs[1,1].plot(list(map(lambda x: float(x), vgg_drp_test_acc_history)), label=\"Test\")\n",
    "vgg_axs[1,1].grid(axis='y')\n",
    "vgg_axs[1,1].set_title(\"Neural Network Accuracy: VGG16 (Dropout) + SGD\")    \n",
    "vgg_axs[1,1].set_xlabel(\"Number of Epochs\")\n",
    "vgg_axs[1,1].set_ylabel(\"Loss\")\n",
    "\n",
    "vgg_accuracy = evaluate(vgg, test_loader)\n",
    "print(f\"VGG16 Final accuracy = {vgg_accuracy / len(test_dataset)*100:.2f}%\")\n",
    "vgg_drp_accuracy = evaluate(vgg_drp, test_loader)\n",
    "print(f\"VGG16 (Dropout) Final accuracy = {vgg_drp_accuracy / len(test_dataset)*100:.2f}%\")"
   ]
  },
  {
   "cell_type": "markdown",
   "id": "08f6f4f6",
   "metadata": {},
   "source": [
    "<br><span style=\"color:black;font-size:35px\">**AlexNet**</span>"
   ]
  },
  {
   "cell_type": "code",
   "execution_count": 17,
   "id": "2e794b4d",
   "metadata": {},
   "outputs": [
    {
     "name": "stdout",
     "output_type": "stream",
     "text": [
      "3528\n",
      "883\n"
     ]
    }
   ],
   "source": [
    "alex_transform = T.Compose([T.Resize(size=(224, 224)),\n",
    "                            T.CenterCrop(224),\n",
    "                            T.RandomHorizontalFlip(),\n",
    "                            T.ToTensor(), \n",
    "                            T.Normalize(mean=[0.485, 0.456, 0.406], std=[0.229, 0.224, 0.225])\n",
    "                           ])\n",
    "\n",
    "alex_fish_data = QutFishDataset(data_path=data_path, transform=alex_transform)\n",
    "alex_train_size = int(0.8 * len(alex_fish_data))\n",
    "alex_test_size = len(alex_fish_data) - alex_train_size\n",
    "alex_train_dataset, alex_test_dataset = random_split(alex_fish_data, [alex_train_size, alex_test_size])\n",
    "print(len(alex_train_dataset))\n",
    "print(len(alex_test_dataset))"
   ]
  },
  {
   "cell_type": "code",
   "execution_count": 18,
   "id": "3c082163",
   "metadata": {},
   "outputs": [
    {
     "name": "stdout",
     "output_type": "stream",
     "text": [
      "353\n",
      "89\n"
     ]
    }
   ],
   "source": [
    "alex_learning_rate = 1e-3\n",
    "alex_batch_size = 10\n",
    "alex_momentum = 0.9\n",
    "alex_nepochs = 5\n",
    "\n",
    "alex_train_loader = DataLoader(alex_train_dataset, batch_size=alex_batch_size, shuffle=True, num_workers=2)\n",
    "alex_test_loader = DataLoader(alex_test_dataset, batch_size=alex_batch_size, shuffle=False, num_workers=2)\n",
    "print(len(alex_train_loader))\n",
    "print(len(alex_test_loader))"
   ]
  },
  {
   "cell_type": "code",
   "execution_count": null,
   "id": "2ce19104",
   "metadata": {},
   "outputs": [
    {
     "name": "stderr",
     "output_type": "stream",
     "text": [
      "Using cache found in C:\\Users\\Evant/.cache\\torch\\hub\\pytorch_vision_v0.6.0\n"
     ]
    },
    {
     "name": "stdout",
     "output_type": "stream",
     "text": [
      "AlexNet(\n",
      "  (features): Sequential(\n",
      "    (0): Conv2d(3, 64, kernel_size=(11, 11), stride=(4, 4), padding=(2, 2))\n",
      "    (1): ReLU(inplace=True)\n",
      "    (2): MaxPool2d(kernel_size=3, stride=2, padding=0, dilation=1, ceil_mode=False)\n",
      "    (3): Conv2d(64, 192, kernel_size=(5, 5), stride=(1, 1), padding=(2, 2))\n",
      "    (4): ReLU(inplace=True)\n",
      "    (5): MaxPool2d(kernel_size=3, stride=2, padding=0, dilation=1, ceil_mode=False)\n",
      "    (6): Conv2d(192, 384, kernel_size=(3, 3), stride=(1, 1), padding=(1, 1))\n",
      "    (7): ReLU(inplace=True)\n",
      "    (8): Conv2d(384, 256, kernel_size=(3, 3), stride=(1, 1), padding=(1, 1))\n",
      "    (9): ReLU(inplace=True)\n",
      "    (10): Conv2d(256, 256, kernel_size=(3, 3), stride=(1, 1), padding=(1, 1))\n",
      "    (11): ReLU(inplace=True)\n",
      "    (12): MaxPool2d(kernel_size=3, stride=2, padding=0, dilation=1, ceil_mode=False)\n",
      "  )\n",
      "  (avgpool): AdaptiveAvgPool2d(output_size=(6, 6))\n",
      "  (classifier): Sequential(\n",
      "    (0): Dropout(p=0.5, inplace=False)\n",
      "    (1): Linear(in_features=9216, out_features=4096, bias=True)\n",
      "    (2): ReLU(inplace=True)\n",
      "    (3): Dropout(p=0.5, inplace=False)\n",
      "    (4): Linear(in_features=4096, out_features=1024, bias=True)\n",
      "    (5): ReLU(inplace=True)\n",
      "    (6): Linear(in_features=1024, out_features=483, bias=True)\n",
      "  )\n",
      ")\n"
     ]
    },
    {
     "name": "stderr",
     "output_type": "stream",
     "text": [
      "\r",
      "Epoch:   0%|                                                                                  | 0/5 [00:00<?, ?epoch/s]"
     ]
    }
   ],
   "source": [
    "# alex = AlexNet(nout=num_classes).to(device)\n",
    "alex = torch.hub.load(\"pytorch/vision:v0.6.0\", \"alexnet\", pretrained=True)\n",
    "alex.classifier[4] = nn.Linear(4096, 1024)\n",
    "alex.classifier[6] = nn.Linear(1024, num_classes)\n",
    "alex = alex.to(device)\n",
    "# alex.fc = nn.Sequential(nn.Linear(2048, num_classes), nn.Sigmoid())\n",
    "print(alex)\n",
    "\n",
    "alex_optimizer_sgd = optim.SGD(alex.parameters(), lr=alex_learning_rate)\n",
    "\n",
    "alex_loss_function = nn.CrossEntropyLoss()\n",
    "\n",
    "alex.train()\n",
    "alex_loss_history = []\n",
    "alex_train_acc_history = []\n",
    "alex_test_acc_history = []\n",
    "for epoch in tqdm(range(alex_nepochs),\n",
    "                  desc=f\"Epoch\",\n",
    "                  unit=\"epoch\",\n",
    "                  disable=False):\n",
    "#     vgg_loss_history.append\n",
    "    loss_history, accuracy = (train_epoch(model=alex, \n",
    "                                        train_data=alex_train_loader, \n",
    "                                        LossFunction=alex_loss_function, \n",
    "                                        optimizer=alex_optimizer_sgd))\n",
    "    alex_loss_history.append(loss_history)\n",
    "    alex_train_acc_history.append(accuracy)\n",
    "    alex_test_acc_history.append((evaluate(alex, alex_test_loader) / len(alex_test_dataset)) * 100)\n",
    "\n",
    "    print(f\"Epoch {epoch}:\\ntrain loss: {alex_loss_history[-1][-1]}\"\n",
    "          f\"\\ntrain acc:  {float(alex_train_acc_history[-1])} test acc: {float(alex_test_acc_history[-1])}\")"
   ]
  },
  {
   "cell_type": "code",
   "execution_count": null,
   "id": "21c0a6db",
   "metadata": {},
   "outputs": [],
   "source": []
  }
 ],
 "metadata": {
  "kernelspec": {
   "display_name": "Python 3 (ipykernel)",
   "language": "python",
   "name": "python3"
  },
  "language_info": {
   "codemirror_mode": {
    "name": "ipython",
    "version": 3
   },
   "file_extension": ".py",
   "mimetype": "text/x-python",
   "name": "python",
   "nbconvert_exporter": "python",
   "pygments_lexer": "ipython3",
   "version": "3.8.12"
  }
 },
 "nbformat": 4,
 "nbformat_minor": 5
}
