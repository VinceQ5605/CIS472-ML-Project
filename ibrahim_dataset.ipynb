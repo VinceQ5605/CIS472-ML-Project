{
 "cells": [
  {
   "cell_type": "markdown",
   "id": "3d5f2a79",
   "metadata": {},
   "source": [
    "<span style=\"color:black;font-size:35px\">**Ibrahim Fish Dataset**</span>"
   ]
  },
  {
   "cell_type": "code",
   "execution_count": 1,
   "id": "f21c80f1",
   "metadata": {},
   "outputs": [],
   "source": [
    "CWD = r'C:\\Users\\Evant\\Desktop\\cis472\\latest\\CIS472-CourseProject'\n",
    "import torch\n",
    "import torch.nn as nn\n",
    "from torch import optim\n",
    "from torch.utils.data import Dataset\n",
    "from torch.utils.data import DataLoader\n",
    "from torchvision import transforms as T\n",
    "import matplotlib.pyplot as plt\n",
    "import os\n",
    "import random\n",
    "from PIL import Image\n",
    "from tqdm import tqdm\n",
    "import sys\n",
    "sys.path.append(CWD+r'\\models')\n",
    "# sys.path.append(r'C:\\Users\\hansm\\Github\\CIS472-CourseProject\\models')\n",
    "from vgg import VGG16\n",
    "from lenet import LeNet\n",
    "from alexnet import AlexNet\n",
    "sys.path.pop()\n",
    "#sys.path.append(r'..\\training')\n",
    "# sys.path.append(r'C:\\Users\\hansm\\Github\\CIS472-CourseProject\\training')\n",
    "# from training import train_epoch\n",
    "# sys.path.pop()\n",
    "\n",
    "device = torch.device(\"cuda\" if torch.cuda.is_available() else \"cpu\")\n",
    "\n",
    "FILEPATH = r\"..\\..\\FISH0006 fishclassifierfinal\\intel-image-classification\"\n",
    "# FILEPATH = r\"C:\\Users\\hansm\\Github\\CIS472-CourseProject\\Project Datasets\\Dataset3\\FishClassifierFinal\\archive\\intel-image-classification\""
   ]
  },
  {
   "cell_type": "code",
   "execution_count": 2,
   "id": "44cf7bd0",
   "metadata": {},
   "outputs": [],
   "source": [
    "def evaluate(model, test_data):\n",
    "    model.eval()\n",
    "    accuracy = 0\n",
    "    with torch.no_grad():\n",
    "        for (data, label) in test_data:\n",
    "#             print(data)\n",
    "            data = data.to(device)\n",
    "#             label = torch.tensor(label)\n",
    "#             print(label)\n",
    "            label = label.to(device)\n",
    "            out = model(data)\n",
    "            answers = out.max(dim=1)[1]\n",
    "#             answers = torch.max(out, dim=1)\n",
    "#             print(answers)\n",
    "            accuracy += (answers == label).sum()\n",
    "    return accuracy"
   ]
  },
  {
   "cell_type": "code",
   "execution_count": 3,
   "id": "e9f8b7d9",
   "metadata": {},
   "outputs": [],
   "source": [
    "def train_epoch(model, train_data, LossFunction, optimizer):\n",
    "#     model.to(device)\n",
    "    model.train()\n",
    "    loss_history = []\n",
    "    acc_history = []\n",
    "    correct = 0\n",
    "    for (data, label) in tqdm(train_data, desc=\"iteration\", unit=\"%\", disable=True):\n",
    "        # clear the gradients\n",
    "        optimizer.zero_grad(set_to_none=True)\n",
    "        \n",
    "        # send the data and labels to the same device as the training model\n",
    "        data = data.to(device)\n",
    "#         print(label.shape)\n",
    "        label = label.to(device)\n",
    "\n",
    "        # get the output from the model\n",
    "        out = model(data)\n",
    "#         print(out.shape)\n",
    "        _, output = torch.max(out, 1)\n",
    "        \n",
    "        # calculate loss\n",
    "        loss = LossFunction(out, label)\n",
    "        \n",
    "        # calculate gradients and perform gradient descent\n",
    "        loss.backward()\n",
    "        optimizer.step()\n",
    "        correct += (output == label).float().sum()\n",
    "        loss_history.append(loss.item())\n",
    "    accuracy = 100 * correct / len(fish_train_set)\n",
    "    return loss_history, accuracy"
   ]
  },
  {
   "cell_type": "code",
   "execution_count": 4,
   "id": "1b0e869a",
   "metadata": {},
   "outputs": [],
   "source": [
    "# not really useful at the moment\n",
    "class My_Dataset(Dataset):\n",
    "    def __init__(self, data_path, transform=None):\n",
    "        raise NotImplementedError\n",
    "        \n",
    "    def __len__(self):\n",
    "        raise NotImplementedError\n",
    "        \n",
    "    def __getitem__(self, idx):\n",
    "        raise NotImplementedError"
   ]
  },
  {
   "cell_type": "code",
   "execution_count": 5,
   "id": "70048f3b",
   "metadata": {},
   "outputs": [],
   "source": [
    "class FishDataset(Dataset):\n",
    "    def __init__(self, data_path, train=False, shuffle=False, transform=None):\n",
    "        self.train = train\n",
    "        self.transform = transform\n",
    "        self.data_path = data_path\n",
    "        datapoints = {}\n",
    "        i = 0\n",
    "        if train:\n",
    "            for label in os.listdir(fr\"{data_path}\\seg_train\\seg_train\"):\n",
    "                for image in os.listdir(fr\"{data_path}\\seg_train\\seg_train\\{label}\"):\n",
    "                    datapoints[image] = i\n",
    "                i += 1\n",
    "        else:\n",
    "            for label in os.listdir(fr\"{data_path}\\seg_test\\seg_test\"):\n",
    "                for image in os.listdir(fr\"{data_path}\\seg_test\\seg_test\\{label}\"):\n",
    "                    datapoints[image] = i\n",
    "                i += 1\n",
    "        self._num_labels = i\n",
    "        if shuffle:\n",
    "            k = list(datapoints.keys())\n",
    "            random.shuffle(k)\n",
    "            l = [(key, datapoints[key]) for key in k]\n",
    "            datapoints = dict(l)\n",
    "        self.labels = list(datapoints.values())\n",
    "        self.images = list(datapoints.keys())\n",
    "        \n",
    "    def __len__(self):\n",
    "        return len(self.images)\n",
    "    \n",
    "    def __getitem__(self, idx):\n",
    "        folders = os.listdir(fr\"{self.data_path}\\seg_train\\seg_train\")\n",
    "        label = self.labels[idx]\n",
    "        if self.train:\n",
    "            img = Image.open(fr\"{self.data_path}\\seg_train\\seg_train\\{folders[label]}\\{self.images[idx]}\")\n",
    "        else:\n",
    "            img = Image.open(fr\"{self.data_path}\\seg_test\\seg_test\\{folders[label]}\\{self.images[idx]}\")\n",
    "        # this data set contains a number of png files with an alpha channel\n",
    "        img = img.convert(\"RGB\")\n",
    "        if self.transform is not None:\n",
    "            img = self.transform(img)\n",
    "#         if not img.shape[0] == 3:\n",
    "#             print(img.shape)\n",
    "#             img = img.convert(\"RGB\")\n",
    "#             img.cv2.cvtColor(img, cv2.COLOR_BGRA)\n",
    "        return img, label    \n",
    "\n",
    "    def num_labels(self):\n",
    "        return self._num_labels"
   ]
  },
  {
   "cell_type": "code",
   "execution_count": 6,
   "id": "297ade17",
   "metadata": {},
   "outputs": [],
   "source": [
    "fish_transform = T.Compose([T.Resize(size=(224,224)), \n",
    "                            T.RandomHorizontalFlip(), \n",
    "                            T.ToTensor(), \n",
    "                            T.Normalize(mean=[0.485, 0.456, 0.406], \n",
    "                                        std=[0.229, 0.224, 0.225])])\n",
    "\n",
    "fish_train_set = FishDataset(FILEPATH, \n",
    "                             train=True, \n",
    "                             shuffle=True, \n",
    "                             transform=fish_transform)\n",
    "fish_test_set = FishDataset(FILEPATH, \n",
    "                            train=False, \n",
    "                            shuffle=True, \n",
    "                            transform=fish_transform)"
   ]
  },
  {
   "cell_type": "code",
   "execution_count": 7,
   "id": "6484aee4",
   "metadata": {
    "scrolled": true
   },
   "outputs": [
    {
     "name": "stdout",
     "output_type": "stream",
     "text": [
      "Type: <class 'list'>\n",
      "Length: 2\n",
      "More Types: <class 'torch.Tensor'>, <class 'torch.Tensor'>\n",
      "Image Shapes: torch.Size([3, 224, 224]), torch.Size([3, 224, 224])\n",
      "Labels: tensor([ 8, 29])\n",
      "\n"
     ]
    },
    {
     "data": {
      "text/plain": [
       "<matplotlib.image.AxesImage at 0x297dbdd9340>"
      ]
     },
     "execution_count": 7,
     "metadata": {},
     "output_type": "execute_result"
    },
    {
     "data": {
      "image/png": "[encoded data removed]",
      "text/plain": [
       "<Figure size 432x288 with 2 Axes>"
      ]
     },
     "metadata": {
      "needs_background": "light"
     },
     "output_type": "display_data"
    }
   ],
   "source": [
    "fish_investigation_dataset = DataLoader(fish_train_set, batch_size=2)\n",
    "fish_data = iter(fish_investigation_dataset)\n",
    "fish_single_point = next(fish_data)\n",
    "print(f\"\"\"Type: {type(fish_single_point)}\n",
    "Length: {len(fish_single_point)}\n",
    "More Types: {type(fish_single_point[0])}, {type(fish_single_point[1])}\n",
    "Image Shapes: {fish_single_point[0][0].shape}, {fish_single_point[0][1].shape}\n",
    "Labels: {fish_single_point[1]}\n",
    "\"\"\")\n",
    "\n",
    "ToPIL = T.ToPILImage()\n",
    "img0 = ToPIL(fish_single_point[0][0])\n",
    "img1 = ToPIL(fish_single_point[0][1])\n",
    "fi_1, axs_1 = plt.subplots(1,2)\n",
    "axs_1[0].imshow(img0)\n",
    "axs_1[1].imshow(img1)"
   ]
  },
  {
   "cell_type": "markdown",
   "id": "74f3ecea",
   "metadata": {},
   "source": [
    "<span style=\"color:black;font-size:35px\">**VGG Training**</span>"
   ]
  },
  {
   "cell_type": "code",
   "execution_count": 8,
   "id": "fb6c63c6",
   "metadata": {},
   "outputs": [],
   "source": [
    "vgg_learning_rate = 1e-1\n",
    "vgg_nepochs = 8\n",
    "fish_batch_size = 64\n",
    "\n",
    "fish_train_dataset = DataLoader(fish_train_set, batch_size=fish_batch_size)\n",
    "fish_test_dataset = DataLoader(fish_test_set, batch_size=fish_batch_size)\n",
    "\n",
    "loss_function = nn.CrossEntropyLoss()"
   ]
  },
  {
   "cell_type": "code",
   "execution_count": 11,
   "id": "290255b6",
   "metadata": {
    "scrolled": true
   },
   "outputs": [
    {
     "name": "stderr",
     "output_type": "stream",
     "text": [
      "Epoch:  12%|█████████▎                                                                | 1/8 [01:32<10:46, 92.31s/epoch]"
     ]
    },
    {
     "name": "stdout",
     "output_type": "stream",
     "text": [
      "Epoch 0:\n",
      "train loss: 2.010280132293701\n",
      "train acc:  27.25628089904785 test acc: 41.67545700073242\n"
     ]
    },
    {
     "name": "stderr",
     "output_type": "stream",
     "text": [
      "\r",
      "Epoch:  25%|██████████████████▌                                                       | 2/8 [03:15<09:52, 98.74s/epoch]"
     ]
    },
    {
     "name": "stdout",
     "output_type": "stream",
     "text": [
      "Epoch 1:\n",
      "train loss: 0.9450937509536743\n",
      "train acc:  55.43718719482422 test acc: 48.84996795654297\n"
     ]
    },
    {
     "name": "stderr",
     "output_type": "stream",
     "text": [
      "\r",
      "Epoch:  38%|███████████████████████████▍                                             | 3/8 [04:57<08:21, 100.38s/epoch]"
     ]
    },
    {
     "name": "stdout",
     "output_type": "stream",
     "text": [
      "Epoch 2:\n",
      "train loss: 0.7533616423606873\n",
      "train acc:  74.27135467529297 test acc: 53.30238342285156\n"
     ]
    },
    {
     "name": "stderr",
     "output_type": "stream",
     "text": [
      "\r",
      "Epoch:  50%|████████████████████████████████████▌                                    | 4/8 [06:45<06:52, 103.10s/epoch]"
     ]
    },
    {
     "name": "stdout",
     "output_type": "stream",
     "text": [
      "Epoch 3:\n",
      "train loss: 0.331241637468338\n",
      "train acc:  84.7035140991211 test acc: 66.36421203613281\n"
     ]
    },
    {
     "name": "stderr",
     "output_type": "stream",
     "text": [
      "\r",
      "Epoch:  62%|█████████████████████████████████████████████▋                           | 5/8 [08:22<05:02, 100.88s/epoch]"
     ]
    },
    {
     "name": "stdout",
     "output_type": "stream",
     "text": [
      "Epoch 4:\n",
      "train loss: 0.1605435311794281\n",
      "train acc:  90.59296417236328 test acc: 72.2093276977539\n"
     ]
    },
    {
     "name": "stderr",
     "output_type": "stream",
     "text": [
      "\r",
      "Epoch:  75%|██████████████████████████████████████████████████████▊                  | 6/8 [10:06<03:24, 102.24s/epoch]"
     ]
    },
    {
     "name": "stdout",
     "output_type": "stream",
     "text": [
      "Epoch 5:\n",
      "train loss: 0.017748238518834114\n",
      "train acc:  94.9145736694336 test acc: 72.1460189819336\n"
     ]
    },
    {
     "name": "stderr",
     "output_type": "stream",
     "text": [
      "\r",
      "Epoch:  88%|███████████████████████████████████████████████████████████████▉         | 7/8 [11:52<01:43, 103.31s/epoch]"
     ]
    },
    {
     "name": "stdout",
     "output_type": "stream",
     "text": [
      "Epoch 6:\n",
      "train loss: 0.20666566491127014\n",
      "train acc:  96.22110748291016 test acc: 75.33235168457031\n"
     ]
    },
    {
     "name": "stderr",
     "output_type": "stream",
     "text": [
      "Epoch: 100%|█████████████████████████████████████████████████████████████████████████| 8/8 [13:32<00:00, 101.55s/epoch]"
     ]
    },
    {
     "name": "stdout",
     "output_type": "stream",
     "text": [
      "Epoch 7:\n",
      "train loss: 0.0157456174492836\n",
      "train acc:  98.47235870361328 test acc: 78.09664916992188\n"
     ]
    },
    {
     "name": "stderr",
     "output_type": "stream",
     "text": [
      "\n"
     ]
    }
   ],
   "source": [
    "vgg = VGG16(hidden_features=512, nout=30, dropout=False).to(device)\n",
    "# print(vgg)\n",
    "\n",
    "vgg_optimizer_sgd = optim.SGD(vgg.parameters(), lr=vgg_learning_rate)\n",
    "\n",
    "loss_function = nn.CrossEntropyLoss()\n",
    "\n",
    "vgg.train()\n",
    "vgg_loss_history = []\n",
    "vgg_train_acc_history = []\n",
    "vgg_test_acc_history = []\n",
    "for epoch in tqdm(range(vgg_nepochs),\n",
    "                  desc=f\"Epoch\",\n",
    "                  unit=\"epoch\",\n",
    "                  disable=False):\n",
    "#     vgg_loss_history.append\n",
    "    loss_history, accuracy = (train_epoch(model=vgg, \n",
    "                                        train_data=fish_train_dataset, \n",
    "                                        LossFunction=loss_function, \n",
    "                                        optimizer=vgg_optimizer_sgd))\n",
    "    vgg_loss_history.append(loss_history)\n",
    "    vgg_train_acc_history.append(accuracy)\n",
    "    vgg_test_acc_history.append((evaluate(vgg, fish_test_dataset) / len(fish_test_set)) * 100)\n",
    "\n",
    "    print(f\"Epoch {epoch}:\\ntrain loss: {vgg_loss_history[-1][-1]}\"\n",
    "          f\"\\ntrain acc:  {float(vgg_train_acc_history[-1])} test acc: {float(vgg_test_acc_history[-1])}\")"
   ]
  },
  {
   "cell_type": "code",
   "execution_count": 12,
   "id": "26dea829",
   "metadata": {},
   "outputs": [
    {
     "name": "stderr",
     "output_type": "stream",
     "text": [
      "Epoch:  12%|█████████▏                                                               | 1/8 [01:50<12:55, 110.73s/epoch]"
     ]
    },
    {
     "name": "stdout",
     "output_type": "stream",
     "text": [
      "Epoch 0:\n",
      "train loss: 2.512347936630249\n",
      "train acc:  22.874372482299805 test acc: 28.86684799194336\n"
     ]
    },
    {
     "name": "stderr",
     "output_type": "stream",
     "text": [
      "\r",
      "Epoch:  25%|██████████████████▎                                                      | 2/8 [03:39<10:56, 109.37s/epoch]"
     ]
    },
    {
     "name": "stdout",
     "output_type": "stream",
     "text": [
      "Epoch 1:\n",
      "train loss: 1.4107145071029663\n",
      "train acc:  43.175880432128906 test acc: 51.192237854003906\n"
     ]
    },
    {
     "name": "stderr",
     "output_type": "stream",
     "text": [
      "\r",
      "Epoch:  38%|███████████████████████████▍                                             | 3/8 [05:28<09:06, 109.26s/epoch]"
     ]
    },
    {
     "name": "stdout",
     "output_type": "stream",
     "text": [
      "Epoch 2:\n",
      "train loss: 0.9961052536964417\n",
      "train acc:  56.32160568237305 test acc: 54.526268005371094\n"
     ]
    },
    {
     "name": "stderr",
     "output_type": "stream",
     "text": [
      "\r",
      "Epoch:  50%|████████████████████████████████████▌                                    | 4/8 [07:20<07:22, 110.58s/epoch]"
     ]
    },
    {
     "name": "stdout",
     "output_type": "stream",
     "text": [
      "Epoch 3:\n",
      "train loss: 1.1335017681121826\n",
      "train acc:  68.36180877685547 test acc: 50.39037322998047\n"
     ]
    },
    {
     "name": "stderr",
     "output_type": "stream",
     "text": [
      "\r",
      "Epoch:  62%|█████████████████████████████████████████████▋                           | 5/8 [09:11<05:31, 110.51s/epoch]"
     ]
    },
    {
     "name": "stdout",
     "output_type": "stream",
     "text": [
      "Epoch 4:\n",
      "train loss: 0.8419397473335266\n",
      "train acc:  75.65828704833984 test acc: 66.9550552368164\n"
     ]
    },
    {
     "name": "stderr",
     "output_type": "stream",
     "text": [
      "\r",
      "Epoch:  75%|██████████████████████████████████████████████████████▊                  | 6/8 [11:01<03:40, 110.27s/epoch]"
     ]
    },
    {
     "name": "stdout",
     "output_type": "stream",
     "text": [
      "Epoch 5:\n",
      "train loss: 0.4544554352760315\n",
      "train acc:  80.80401611328125 test acc: 70.20468139648438\n"
     ]
    },
    {
     "name": "stderr",
     "output_type": "stream",
     "text": [
      "\r",
      "Epoch:  88%|███████████████████████████████████████████████████████████████▉         | 7/8 [12:55<01:51, 111.76s/epoch]"
     ]
    },
    {
     "name": "stdout",
     "output_type": "stream",
     "text": [
      "Epoch 6:\n",
      "train loss: 0.1565057635307312\n",
      "train acc:  85.34673309326172 test acc: 72.73686218261719\n"
     ]
    },
    {
     "name": "stderr",
     "output_type": "stream",
     "text": [
      "Epoch: 100%|█████████████████████████████████████████████████████████████████████████| 8/8 [14:46<00:00, 110.80s/epoch]"
     ]
    },
    {
     "name": "stdout",
     "output_type": "stream",
     "text": [
      "Epoch 7:\n",
      "train loss: 0.4682423174381256\n",
      "train acc:  87.79899597167969 test acc: 64.54948425292969\n"
     ]
    },
    {
     "name": "stderr",
     "output_type": "stream",
     "text": [
      "\n"
     ]
    }
   ],
   "source": [
    "vgg_drp = VGG16(hidden_features=512, nout=30, dropout=True).to(device)\n",
    "# print(vgg)\n",
    "\n",
    "vgg_drp_optimizer_sgd = optim.SGD(vgg_drp.parameters(), lr=vgg_learning_rate)\n",
    "\n",
    "vgg_drp.train()\n",
    "vgg_drp_loss_history = []\n",
    "vgg_drp_train_acc_history = []\n",
    "vgg_drp_test_acc_history = []\n",
    "for epoch in tqdm(range(vgg_nepochs),\n",
    "                  desc=f\"Epoch\",\n",
    "                  unit=\"epoch\",\n",
    "                  disable=False):\n",
    "#     vgg_loss_history.append\n",
    "    loss_history, accuracy = (train_epoch(model=vgg_drp, \n",
    "                                        train_data=fish_train_dataset, \n",
    "                                        LossFunction=loss_function, \n",
    "                                        optimizer=vgg_drp_optimizer_sgd))\n",
    "    vgg_drp_loss_history.append(loss_history)\n",
    "    vgg_drp_train_acc_history.append(accuracy)\n",
    "    vgg_drp_test_acc_history.append((evaluate(vgg_drp, fish_test_dataset) / len(fish_test_set)) * 100)\n",
    "\n",
    "    print(f\"Epoch {epoch}:\\ntrain loss: {vgg_drp_loss_history[-1][-1]}\"\n",
    "          f\"\\ntrain acc:  {float(vgg_drp_train_acc_history[-1])} test acc: {float(vgg_drp_test_acc_history[-1])}\")"
   ]
  },
  {
   "cell_type": "code",
   "execution_count": 13,
   "id": "aaa0dcc6",
   "metadata": {},
   "outputs": [
    {
     "name": "stdout",
     "output_type": "stream",
     "text": [
      "VGG16 Final accuracy = 78.56%\n",
      "VGG16 (Dropout) Final accuracy = 64.53%\n"
     ]
    },
    {
     "data": {
      "image/png": "[encoded data removed]",
      "text/plain": [
       "<Figure size 1080x720 with 4 Axes>"
      ]
     },
     "metadata": {
      "needs_background": "light"
     },
     "output_type": "display_data"
    }
   ],
   "source": [
    "vgg_fig, vgg_axs = plt.subplots(2, 2, figsize=(15, 10))\n",
    "vgg_axs[0,0].plot(list(map(lambda x: x[-1], vgg_loss_history)))\n",
    "vgg_axs[0,0].grid(axis='y')\n",
    "vgg_axs[0,0].set_title(\"Neural Network Loss: VGG16 + SGD\")    \n",
    "vgg_axs[0,0].set_xlabel(\"Number of Epochs\")\n",
    "vgg_axs[0,0].set_ylabel(\"Loss\")\n",
    "# ax1.show()\n",
    "\n",
    "vgg_axs[0,1].plot(list(map(lambda x: x[-1], vgg_drp_loss_history)))\n",
    "vgg_axs[0,1].grid(axis='y')\n",
    "vgg_axs[0,1].set_title(\"Neural Network Loss: VGG16 (Dropout) + SGD\")    \n",
    "vgg_axs[0,1].set_xlabel(\"Number of Epochs\")\n",
    "vgg_axs[0,1].set_ylabel(\"Loss\")\n",
    "# ax2.show()\n",
    "\n",
    "vgg_axs[1,0].plot(list(map(lambda x: float(x), vgg_train_acc_history)), label=\"Train\")\n",
    "vgg_axs[1,0].plot(list(map(lambda x: float(x), vgg_test_acc_history)), label=\"Test\")\n",
    "vgg_axs[1,0].grid(axis='y')\n",
    "vgg_axs[1,0].set_title(\"Neural Network Accuracy: VGG16 + SGD\")    \n",
    "vgg_axs[1,0].set_xlabel(\"Number of Epochs\")\n",
    "vgg_axs[1,0].set_ylabel(\"Loss\")\n",
    "\n",
    "vgg_axs[1,1].plot(list(map(lambda x: float(x), vgg_drp_train_acc_history)), label=\"Train\")\n",
    "vgg_axs[1,1].plot(list(map(lambda x: float(x), vgg_drp_test_acc_history)), label=\"Test\")\n",
    "vgg_axs[1,1].grid(axis='y')\n",
    "vgg_axs[1,1].set_title(\"Neural Network Accuracy: VGG16 (Dropout) + SGD\")    \n",
    "vgg_axs[1,1].set_xlabel(\"Number of Epochs\")\n",
    "vgg_axs[1,1].set_ylabel(\"Loss\")\n",
    "\n",
    "vgg_accuracy = evaluate(vgg, fish_test_dataset)\n",
    "print(f\"VGG16 Final accuracy = {vgg_accuracy / len(fish_test_set)*100:.2f}%\")\n",
    "vgg_drp_accuracy = evaluate(vgg_drp, fish_test_dataset)\n",
    "print(f\"VGG16 (Dropout) Final accuracy = {vgg_drp_accuracy / len(fish_test_set)*100:.2f}%\")"
   ]
  },
  {
   "cell_type": "markdown",
   "id": "0e7ceeb2",
   "metadata": {},
   "source": [
    "# Lenet Training"
   ]
  },
  {
   "cell_type": "code",
   "execution_count": 9,
   "id": "0e1a09d1",
   "metadata": {},
   "outputs": [],
   "source": [
    "lenet_learning_rate = 0.02\n",
    "lenet_nepochs = 20\n",
    "lenet_batch_size = 16\n",
    "\n",
    "lenet_fish_train_dataset = DataLoader(fish_train_set, batch_size=lenet_batch_size)\n",
    "lenet_fish_test_dataset = DataLoader(fish_test_set, batch_size=lenet_batch_size)\n",
    "\n",
    "loss_function = nn.CrossEntropyLoss()"
   ]
  },
  {
   "cell_type": "code",
   "execution_count": 59,
   "id": "6d5374e3",
   "metadata": {
    "scrolled": true
   },
   "outputs": [
    {
     "name": "stdout",
     "output_type": "stream",
     "text": [
      "Training Lenet + Adam optimizer...\n"
     ]
    },
    {
     "name": "stderr",
     "output_type": "stream",
     "text": [
      "Epoch:   5%|███▋                                                                     | 1/20 [00:28<08:54, 28.13s/epoch]"
     ]
    },
    {
     "name": "stdout",
     "output_type": "stream",
     "text": [
      "Epoch 0:\n",
      "train loss: 2.544456958770752\n",
      "train acc:  12.442211151123047 test acc: 18.82253646850586\n"
     ]
    },
    {
     "name": "stderr",
     "output_type": "stream",
     "text": [
      "\r",
      "Epoch:  10%|███████▎                                                                 | 2/20 [00:56<08:23, 27.99s/epoch]"
     ]
    },
    {
     "name": "stdout",
     "output_type": "stream",
     "text": [
      "Epoch 1:\n",
      "train loss: 2.0306358337402344\n",
      "train acc:  27.035175323486328 test acc: 32.87613296508789\n"
     ]
    },
    {
     "name": "stderr",
     "output_type": "stream",
     "text": [
      "\r",
      "Epoch:  15%|██████████▉                                                              | 3/20 [01:23<07:51, 27.75s/epoch]"
     ]
    },
    {
     "name": "stdout",
     "output_type": "stream",
     "text": [
      "Epoch 2:\n",
      "train loss: 1.5928200483322144\n",
      "train acc:  35.29648208618164 test acc: 39.945133209228516\n"
     ]
    },
    {
     "name": "stderr",
     "output_type": "stream",
     "text": [
      "\r",
      "Epoch:  20%|██████████████▌                                                          | 4/20 [01:50<07:22, 27.63s/epoch]"
     ]
    },
    {
     "name": "stdout",
     "output_type": "stream",
     "text": [
      "Epoch 3:\n",
      "train loss: 1.4513912200927734\n",
      "train acc:  42.5728645324707 test acc: 44.165435791015625\n"
     ]
    },
    {
     "name": "stderr",
     "output_type": "stream",
     "text": [
      "\r",
      "Epoch:  25%|██████████████████▎                                                      | 5/20 [02:18<06:53, 27.54s/epoch]"
     ]
    },
    {
     "name": "stdout",
     "output_type": "stream",
     "text": [
      "Epoch 4:\n",
      "train loss: 1.7015297412872314\n",
      "train acc:  47.27638244628906 test acc: 44.3553466796875\n"
     ]
    },
    {
     "name": "stderr",
     "output_type": "stream",
     "text": [
      "\r",
      "Epoch:  30%|█████████████████████▉                                                   | 6/20 [02:45<06:25, 27.51s/epoch]"
     ]
    },
    {
     "name": "stdout",
     "output_type": "stream",
     "text": [
      "Epoch 5:\n",
      "train loss: 1.2641470432281494\n",
      "train acc:  50.95477294921875 test acc: 49.03988265991211\n"
     ]
    },
    {
     "name": "stderr",
     "output_type": "stream",
     "text": [
      "\r",
      "Epoch:  35%|█████████████████████████▌                                               | 7/20 [03:13<05:57, 27.50s/epoch]"
     ]
    },
    {
     "name": "stdout",
     "output_type": "stream",
     "text": [
      "Epoch 6:\n",
      "train loss: 1.4061520099639893\n",
      "train acc:  53.32663345336914 test acc: 49.37750244140625\n"
     ]
    },
    {
     "name": "stderr",
     "output_type": "stream",
     "text": [
      "\r",
      "Epoch:  40%|█████████████████████████████▏                                           | 8/20 [03:40<05:30, 27.58s/epoch]"
     ]
    },
    {
     "name": "stdout",
     "output_type": "stream",
     "text": [
      "Epoch 7:\n",
      "train loss: 1.3240585327148438\n",
      "train acc:  56.38190841674805 test acc: 49.27199935913086\n"
     ]
    },
    {
     "name": "stderr",
     "output_type": "stream",
     "text": [
      "\r",
      "Epoch:  45%|████████████████████████████████▊                                        | 9/20 [04:08<05:03, 27.55s/epoch]"
     ]
    },
    {
     "name": "stdout",
     "output_type": "stream",
     "text": [
      "Epoch 8:\n",
      "train loss: 1.000498652458191\n",
      "train acc:  57.94974899291992 test acc: 50.432579040527344\n"
     ]
    },
    {
     "name": "stderr",
     "output_type": "stream",
     "text": [
      "\r",
      "Epoch:  50%|████████████████████████████████████                                    | 10/20 [04:35<04:35, 27.51s/epoch]"
     ]
    },
    {
     "name": "stdout",
     "output_type": "stream",
     "text": [
      "Epoch 9:\n",
      "train loss: 1.1836451292037964\n",
      "train acc:  60.160804748535156 test acc: 50.32707595825195\n"
     ]
    },
    {
     "name": "stderr",
     "output_type": "stream",
     "text": [
      "\r",
      "Epoch:  55%|███████████████████████████████████████▌                                | 11/20 [05:03<04:07, 27.49s/epoch]"
     ]
    },
    {
     "name": "stdout",
     "output_type": "stream",
     "text": [
      "Epoch 10:\n",
      "train loss: 0.89803546667099\n",
      "train acc:  63.055274963378906 test acc: 52.14180374145508\n"
     ]
    },
    {
     "name": "stderr",
     "output_type": "stream",
     "text": [
      "\r",
      "Epoch:  60%|███████████████████████████████████████████▏                            | 12/20 [05:30<03:39, 27.49s/epoch]"
     ]
    },
    {
     "name": "stdout",
     "output_type": "stream",
     "text": [
      "Epoch 11:\n",
      "train loss: 0.7816775441169739\n",
      "train acc:  63.55778884887695 test acc: 53.00696563720703\n"
     ]
    },
    {
     "name": "stderr",
     "output_type": "stream",
     "text": [
      "\r",
      "Epoch:  65%|██████████████████████████████████████████████▊                         | 13/20 [05:58<03:12, 27.51s/epoch]"
     ]
    },
    {
     "name": "stdout",
     "output_type": "stream",
     "text": [
      "Epoch 12:\n",
      "train loss: 0.63227379322052\n",
      "train acc:  65.12562561035156 test acc: 51.550960540771484\n"
     ]
    },
    {
     "name": "stderr",
     "output_type": "stream",
     "text": [
      "\r",
      "Epoch:  70%|██████████████████████████████████████████████████▍                     | 14/20 [06:25<02:45, 27.50s/epoch]"
     ]
    },
    {
     "name": "stdout",
     "output_type": "stream",
     "text": [
      "Epoch 13:\n",
      "train loss: 0.7228593826293945\n",
      "train acc:  66.07035064697266 test acc: 52.247310638427734\n"
     ]
    },
    {
     "name": "stderr",
     "output_type": "stream",
     "text": [
      "\r",
      "Epoch:  75%|██████████████████████████████████████████████████████                  | 15/20 [06:53<02:17, 27.58s/epoch]"
     ]
    },
    {
     "name": "stdout",
     "output_type": "stream",
     "text": [
      "Epoch 14:\n",
      "train loss: 0.8648644685745239\n",
      "train acc:  67.47738647460938 test acc: 54.27305221557617\n"
     ]
    },
    {
     "name": "stderr",
     "output_type": "stream",
     "text": [
      "\r",
      "Epoch:  80%|█████████████████████████████████████████████████████████▌              | 16/20 [07:21<01:50, 27.69s/epoch]"
     ]
    },
    {
     "name": "stdout",
     "output_type": "stream",
     "text": [
      "Epoch 15:\n",
      "train loss: 0.9639006853103638\n",
      "train acc:  68.44220733642578 test acc: 54.08313751220703\n"
     ]
    },
    {
     "name": "stderr",
     "output_type": "stream",
     "text": [
      "\r",
      "Epoch:  85%|█████████████████████████████████████████████████████████████▏          | 17/20 [07:48<01:22, 27.60s/epoch]"
     ]
    },
    {
     "name": "stdout",
     "output_type": "stream",
     "text": [
      "Epoch 16:\n",
      "train loss: 0.8258293271064758\n",
      "train acc:  69.12562561035156 test acc: 55.05380630493164\n"
     ]
    },
    {
     "name": "stderr",
     "output_type": "stream",
     "text": [
      "\r",
      "Epoch:  90%|████████████████████████████████████████████████████████████████▊       | 18/20 [08:16<00:54, 27.48s/epoch]"
     ]
    },
    {
     "name": "stdout",
     "output_type": "stream",
     "text": [
      "Epoch 17:\n",
      "train loss: 0.5913193821907043\n",
      "train acc:  71.03517150878906 test acc: 53.9354248046875\n"
     ]
    },
    {
     "name": "stderr",
     "output_type": "stream",
     "text": [
      "\r",
      "Epoch:  95%|████████████████████████████████████████████████████████████████████▍   | 19/20 [08:43<00:27, 27.38s/epoch]"
     ]
    },
    {
     "name": "stdout",
     "output_type": "stream",
     "text": [
      "Epoch 18:\n",
      "train loss: 0.7652680277824402\n",
      "train acc:  71.03517150878906 test acc: 55.9400749206543\n"
     ]
    },
    {
     "name": "stderr",
     "output_type": "stream",
     "text": [
      "Epoch: 100%|████████████████████████████████████████████████████████████████████████| 20/20 [09:10<00:00, 27.54s/epoch]"
     ]
    },
    {
     "name": "stdout",
     "output_type": "stream",
     "text": [
      "Epoch 19:\n",
      "train loss: 0.48530450463294983\n",
      "train acc:  72.30150604248047 test acc: 54.673980712890625\n"
     ]
    },
    {
     "name": "stderr",
     "output_type": "stream",
     "text": [
      "\n"
     ]
    }
   ],
   "source": [
    "lenet_1 = LeNet(num_classes=30).to(device)\n",
    "lenet_optimizer_adam = optim.Adam(lenet_1.parameters(), lr=lenet_learning_rate)\n",
    "\n",
    "print(\"Training Lenet + Adam optimizer...\")\n",
    "# lenet_1 = lenet_1.to(device)\n",
    "lenet_1.train()\n",
    "lenet_loss_history_1 = []\n",
    "lenet_train_acc_history_1 = []\n",
    "lenet_test_acc_history_1 = []\n",
    "for epoch in tqdm(range(lenet_nepochs),\n",
    "                  desc=f\"Epoch\",\n",
    "                  unit=\"epoch\",\n",
    "                  disable=False):\n",
    "    loss_history, accuracy = (train_epoch(model=lenet_1, \n",
    "                                          train_data=lenet_fish_train_dataset, \n",
    "                                          LossFunction=loss_function, \n",
    "                                          optimizer=lenet_optimizer_adam))\n",
    "    lenet_loss_history_1.append(loss_history)\n",
    "    lenet_train_acc_history_1.append(accuracy)\n",
    "    lenet_test_acc_history_1.append((evaluate(lenet_1, lenet_fish_test_dataset) / len(fish_test_set)) * 100)\n",
    "\n",
    "    print(f\"Epoch {epoch}:\\ntrain loss: {lenet_loss_history_1[-1][-1]}\"\n",
    "          f\"\\ntrain acc:  {float(lenet_train_acc_history_1[-1])} test acc: {float(lenet_test_acc_history_1[-1])}\")"
   ]
  },
  {
   "cell_type": "code",
   "execution_count": 65,
   "id": "c1d9af71",
   "metadata": {
    "scrolled": true
   },
   "outputs": [
    {
     "name": "stdout",
     "output_type": "stream",
     "text": [
      "Training Lenet + SGD optimizer...\n"
     ]
    },
    {
     "name": "stderr",
     "output_type": "stream",
     "text": [
      "Epoch:   5%|███▋                                                                     | 1/20 [00:27<08:50, 27.91s/epoch]"
     ]
    },
    {
     "name": "stdout",
     "output_type": "stream",
     "text": [
      "Epoch 0:\n",
      "train loss: 3.239281177520752\n",
      "train acc:  4.341708660125732 test acc: 7.069002151489258\n"
     ]
    },
    {
     "name": "stderr",
     "output_type": "stream",
     "text": [
      "\r",
      "Epoch:  10%|███████▎                                                                 | 2/20 [00:55<08:22, 27.92s/epoch]"
     ]
    },
    {
     "name": "stdout",
     "output_type": "stream",
     "text": [
      "Epoch 1:\n",
      "train loss: 2.703260660171509\n",
      "train acc:  12.16080379486084 test acc: 17.197721481323242\n"
     ]
    },
    {
     "name": "stderr",
     "output_type": "stream",
     "text": [
      "\r",
      "Epoch:  15%|██████████▉                                                              | 3/20 [01:23<07:50, 27.66s/epoch]"
     ]
    },
    {
     "name": "stdout",
     "output_type": "stream",
     "text": [
      "Epoch 2:\n",
      "train loss: 2.3288893699645996\n",
      "train acc:  19.135677337646484 test acc: 23.57037353515625\n"
     ]
    },
    {
     "name": "stderr",
     "output_type": "stream",
     "text": [
      "\r",
      "Epoch:  20%|██████████████▌                                                          | 4/20 [01:50<07:22, 27.68s/epoch]"
     ]
    },
    {
     "name": "stdout",
     "output_type": "stream",
     "text": [
      "Epoch 3:\n",
      "train loss: 2.141772508621216\n",
      "train acc:  26.33165740966797 test acc: 28.381515502929688\n"
     ]
    },
    {
     "name": "stderr",
     "output_type": "stream",
     "text": [
      "\r",
      "Epoch:  25%|██████████████████▎                                                      | 5/20 [02:18<06:52, 27.53s/epoch]"
     ]
    },
    {
     "name": "stdout",
     "output_type": "stream",
     "text": [
      "Epoch 4:\n",
      "train loss: 2.2077724933624268\n",
      "train acc:  31.63819122314453 test acc: 32.34859848022461\n"
     ]
    },
    {
     "name": "stderr",
     "output_type": "stream",
     "text": [
      "\r",
      "Epoch:  30%|█████████████████████▉                                                   | 6/20 [02:45<06:24, 27.46s/epoch]"
     ]
    },
    {
     "name": "stdout",
     "output_type": "stream",
     "text": [
      "Epoch 5:\n",
      "train loss: 2.052351951599121\n",
      "train acc:  35.97990036010742 test acc: 36.14686584472656\n"
     ]
    },
    {
     "name": "stderr",
     "output_type": "stream",
     "text": [
      "\r",
      "Epoch:  35%|█████████████████████████▌                                               | 7/20 [03:12<05:56, 27.40s/epoch]"
     ]
    },
    {
     "name": "stdout",
     "output_type": "stream",
     "text": [
      "Epoch 6:\n",
      "train loss: 1.8221180438995361\n",
      "train acc:  39.43718719482422 test acc: 38.32032012939453\n"
     ]
    },
    {
     "name": "stderr",
     "output_type": "stream",
     "text": [
      "\r",
      "Epoch:  40%|█████████████████████████████▏                                           | 8/20 [03:40<05:28, 27.37s/epoch]"
     ]
    },
    {
     "name": "stdout",
     "output_type": "stream",
     "text": [
      "Epoch 7:\n",
      "train loss: 1.722740888595581\n",
      "train acc:  42.89447021484375 test acc: 42.498416900634766\n"
     ]
    },
    {
     "name": "stderr",
     "output_type": "stream",
     "text": [
      "\r",
      "Epoch:  45%|████████████████████████████████▊                                        | 9/20 [04:08<05:03, 27.59s/epoch]"
     ]
    },
    {
     "name": "stdout",
     "output_type": "stream",
     "text": [
      "Epoch 8:\n",
      "train loss: 1.533639669418335\n",
      "train acc:  45.82914352416992 test acc: 44.31314468383789\n"
     ]
    },
    {
     "name": "stderr",
     "output_type": "stream",
     "text": [
      "\r",
      "Epoch:  50%|████████████████████████████████████                                    | 10/20 [04:35<04:36, 27.62s/epoch]"
     ]
    },
    {
     "name": "stdout",
     "output_type": "stream",
     "text": [
      "Epoch 9:\n",
      "train loss: 1.3409837484359741\n",
      "train acc:  48.4824104309082 test acc: 45.748050689697266\n"
     ]
    },
    {
     "name": "stderr",
     "output_type": "stream",
     "text": [
      "\r",
      "Epoch:  55%|███████████████████████████████████████▌                                | 11/20 [05:03<04:08, 27.64s/epoch]"
     ]
    },
    {
     "name": "stdout",
     "output_type": "stream",
     "text": [
      "Epoch 10:\n",
      "train loss: 1.139137625694275\n",
      "train acc:  51.23617935180664 test acc: 47.288455963134766\n"
     ]
    },
    {
     "name": "stderr",
     "output_type": "stream",
     "text": [
      "\r",
      "Epoch:  60%|███████████████████████████████████████████▏                            | 12/20 [05:30<03:40, 27.57s/epoch]"
     ]
    },
    {
     "name": "stdout",
     "output_type": "stream",
     "text": [
      "Epoch 11:\n",
      "train loss: 1.0990087985992432\n",
      "train acc:  53.52763748168945 test acc: 47.562774658203125\n"
     ]
    },
    {
     "name": "stderr",
     "output_type": "stream",
     "text": [
      "\r",
      "Epoch:  65%|██████████████████████████████████████████████▊                         | 13/20 [05:58<03:13, 27.61s/epoch]"
     ]
    },
    {
     "name": "stdout",
     "output_type": "stream",
     "text": [
      "Epoch 12:\n",
      "train loss: 1.015456199645996\n",
      "train acc:  56.70351791381836 test acc: 50.896812438964844\n"
     ]
    },
    {
     "name": "stderr",
     "output_type": "stream",
     "text": [
      "\r",
      "Epoch:  70%|██████████████████████████████████████████████████▍                     | 14/20 [06:26<02:46, 27.81s/epoch]"
     ]
    },
    {
     "name": "stdout",
     "output_type": "stream",
     "text": [
      "Epoch 13:\n",
      "train loss: 0.8751989603042603\n",
      "train acc:  59.778892517089844 test acc: 51.44545364379883\n"
     ]
    },
    {
     "name": "stderr",
     "output_type": "stream",
     "text": [
      "\r",
      "Epoch:  75%|██████████████████████████████████████████████████████                  | 15/20 [06:54<02:19, 27.88s/epoch]"
     ]
    },
    {
     "name": "stdout",
     "output_type": "stream",
     "text": [
      "Epoch 14:\n",
      "train loss: 0.799528181552887\n",
      "train acc:  61.809043884277344 test acc: 51.95188522338867\n"
     ]
    },
    {
     "name": "stderr",
     "output_type": "stream",
     "text": [
      "\r",
      "Epoch:  80%|█████████████████████████████████████████████████████████▌              | 16/20 [07:22<01:51, 27.91s/epoch]"
     ]
    },
    {
     "name": "stdout",
     "output_type": "stream",
     "text": [
      "Epoch 15:\n",
      "train loss: 0.5891714096069336\n",
      "train acc:  63.51758575439453 test acc: 52.120697021484375\n"
     ]
    },
    {
     "name": "stderr",
     "output_type": "stream",
     "text": [
      "\r",
      "Epoch:  85%|█████████████████████████████████████████████████████████████▏          | 17/20 [07:50<01:23, 27.89s/epoch]"
     ]
    },
    {
     "name": "stdout",
     "output_type": "stream",
     "text": [
      "Epoch 16:\n",
      "train loss: 0.5735527873039246\n",
      "train acc:  65.16582489013672 test acc: 54.441864013671875\n"
     ]
    },
    {
     "name": "stderr",
     "output_type": "stream",
     "text": [
      "\r",
      "Epoch:  90%|████████████████████████████████████████████████████████████████▊       | 18/20 [08:18<00:55, 27.91s/epoch]"
     ]
    },
    {
     "name": "stdout",
     "output_type": "stream",
     "text": [
      "Epoch 17:\n",
      "train loss: 0.594608724117279\n",
      "train acc:  67.21607971191406 test acc: 54.10424041748047\n"
     ]
    },
    {
     "name": "stderr",
     "output_type": "stream",
     "text": [
      "\r",
      "Epoch:  95%|████████████████████████████████████████████████████████████████████▍   | 19/20 [08:46<00:27, 27.93s/epoch]"
     ]
    },
    {
     "name": "stdout",
     "output_type": "stream",
     "text": [
      "Epoch 18:\n",
      "train loss: 0.414633572101593\n",
      "train acc:  68.8241195678711 test acc: 55.792362213134766\n"
     ]
    },
    {
     "name": "stderr",
     "output_type": "stream",
     "text": [
      "Epoch: 100%|████████████████████████████████████████████████████████████████████████| 20/20 [09:14<00:00, 27.73s/epoch]"
     ]
    },
    {
     "name": "stdout",
     "output_type": "stream",
     "text": [
      "Epoch 19:\n",
      "train loss: 0.5177825689315796\n",
      "train acc:  70.29145812988281 test acc: 53.70331573486328\n"
     ]
    },
    {
     "name": "stderr",
     "output_type": "stream",
     "text": [
      "\n"
     ]
    }
   ],
   "source": [
    "lenet_2 = LeNet(num_classes=30).to(device)\n",
    "lenet_optimizer_sgd = optim.SGD(lenet_2.parameters(), lr=lenet_learning_rate)\n",
    "\n",
    "print(\"Training Lenet + SGD optimizer...\")\n",
    "# lenet_2 = lenet_2.to(device)\n",
    "lenet_2.train()\n",
    "lenet_loss_history_2 = []\n",
    "lenet_train_acc_history_2 = []\n",
    "lenet_test_acc_history_2 = []\n",
    "for epoch in tqdm(range(lenet_nepochs),\n",
    "                  desc=f\"Epoch\",\n",
    "                  unit=\"epoch\",\n",
    "                  disable=False):\n",
    "    loss_history, accuracy = (train_epoch(model=lenet_2, \n",
    "                                          train_data=lenet_fish_train_dataset, \n",
    "                                          LossFunction=loss_function, \n",
    "                                          optimizer=lenet_optimizer_sgd))\n",
    "    lenet_loss_history_2.append(loss_history)\n",
    "    lenet_train_acc_history_2.append(accuracy)\n",
    "    lenet_test_acc_history_2.append((evaluate(lenet_2, lenet_fish_test_dataset) / len(fish_test_set)) * 100)\n",
    "\n",
    "    print(f\"Epoch {epoch}:\\ntrain loss: {lenet_loss_history_2[-1][-1]}\"\n",
    "          f\"\\ntrain acc:  {float(lenet_train_acc_history_2[-1])} test acc: {float(lenet_test_acc_history_2[-1])}\")"
   ]
  },
  {
   "cell_type": "code",
   "execution_count": 66,
   "id": "293a0e56",
   "metadata": {},
   "outputs": [
    {
     "name": "stdout",
     "output_type": "stream",
     "text": [
      "Lenet + Adam Final accuracy = 54.74%\n",
      "Lenet + SGD Final accuracy = 53.58%\n"
     ]
    },
    {
     "data": {
      "image/png": "[encoded data removed]",
      "text/plain": [
       "<Figure size 1080x720 with 4 Axes>"
      ]
     },
     "metadata": {
      "needs_background": "light"
     },
     "output_type": "display_data"
    }
   ],
   "source": [
    "lenet_fig, lenet_axs = plt.subplots(2, 2, figsize=(15, 10))\n",
    "lenet_axs[0,0].plot(list(map(lambda x: x[-1], lenet_loss_history_1)))\n",
    "lenet_axs[0,0].grid(axis='y')\n",
    "lenet_axs[0,0].set_title(\"Neural Network Loss: Lenet + Adam\")    \n",
    "lenet_axs[0,0].set_xlabel(\"Number of Epochs\")\n",
    "lenet_axs[0,0].set_ylabel(\"Loss\")\n",
    "# ax1.show()\n",
    "\n",
    "lenet_axs[0,1].plot(list(map(lambda x: x[-1], lenet_loss_history_2)))\n",
    "lenet_axs[0,1].grid(axis='y')\n",
    "lenet_axs[0,1].set_title(\"Neural Network Loss: Lenet + SGD\")    \n",
    "lenet_axs[0,1].set_xlabel(\"Number of Epochs\")\n",
    "lenet_axs[0,1].set_ylabel(\"Loss\")\n",
    "# ax2.show()\n",
    "\n",
    "lenet_axs[1,0].plot(list(map(lambda x: float(x), lenet_train_acc_history_1)), label=\"Train\")\n",
    "lenet_axs[1,0].plot(list(map(lambda x: float(x), lenet_test_acc_history_1)), label=\"Test\")\n",
    "lenet_axs[1,0].grid(axis='y')\n",
    "lenet_axs[1,0].set_title(\"Neural Network Accuracy: Lenet + Adam\")    \n",
    "lenet_axs[1,0].set_xlabel(\"Number of Epochs\")\n",
    "lenet_axs[1,0].set_ylabel(\"Loss\")\n",
    "\n",
    "lenet_axs[1,1].plot(list(map(lambda x: float(x), lenet_train_acc_history_2)), label=\"Train\")\n",
    "lenet_axs[1,1].plot(list(map(lambda x: float(x), lenet_test_acc_history_2)), label=\"Test\")\n",
    "lenet_axs[1,1].grid(axis='y')\n",
    "lenet_axs[1,1].set_title(\"Neural Network Accuracy: Lenet + SGD\")    \n",
    "lenet_axs[1,1].set_xlabel(\"Number of Epochs\")\n",
    "lenet_axs[1,1].set_ylabel(\"Loss\")\n",
    "\n",
    "lenet_accuracy_1 = evaluate(lenet_1, fish_test_dataset)\n",
    "print(f\"Lenet + Adam Final accuracy = {lenet_accuracy_1 / len(fish_test_set)*100:.2f}%\")\n",
    "lenet_accuracy_2 = evaluate(lenet_2, fish_test_dataset)\n",
    "print(f\"Lenet + SGD Final accuracy = {lenet_accuracy_2 / len(fish_test_set)*100:.2f}%\")"
   ]
  },
  {
   "cell_type": "markdown",
   "id": "08f6f4f6",
   "metadata": {},
   "source": [
    "<br><span style=\"color:black;font-size:35px\">**AlexNet**</span>"
   ]
  },
  {
   "cell_type": "code",
   "execution_count": 10,
   "id": "ac617be8",
   "metadata": {},
   "outputs": [],
   "source": [
    "alex_learning_rate = 1e-2\n",
    "alex_batch_size = 32\n",
    "alex_momentum = 0.9\n",
    "alex_nepochs = 8\n",
    "alex_pt_nepochs = 5\n",
    "\n",
    "alex_transform = T.Compose([T.Resize(size=(227,227)),\n",
    "#                             T.CenterCrop(224),\n",
    "                            T.RandomHorizontalFlip(),\n",
    "                            T.ToTensor(), \n",
    "                            T.Normalize(mean=[0.485, 0.456, 0.406], std=[0.229, 0.224, 0.225])\n",
    "                           ])\n",
    "\n",
    "alex_fish_train_set = FishDataset(FILEPATH, \n",
    "                                  train=True, \n",
    "                                  shuffle=True, \n",
    "                                  transform=alex_transform)\n",
    "alex_fish_test_set = FishDataset(FILEPATH, \n",
    "                                 train=False, \n",
    "                                 shuffle=False, \n",
    "                                 transform=alex_transform)\n",
    "\n",
    "alex_train_dataset = DataLoader(alex_fish_train_set, batch_size=alex_batch_size)\n",
    "alex_test_dataset = DataLoader(alex_fish_test_set, batch_size=alex_batch_size)\n",
    "\n",
    "alex_loss_function = nn.CrossEntropyLoss()"
   ]
  },
  {
   "cell_type": "code",
   "execution_count": 26,
   "id": "badfcb42",
   "metadata": {},
   "outputs": [
    {
     "name": "stdout",
     "output_type": "stream",
     "text": [
      "AlexNet(\n",
      "  (conv_1): Conv2d(3, 96, kernel_size=(11, 11), stride=(4, 4))\n",
      "  (conv_2): Conv2d(96, 256, kernel_size=(5, 5), stride=(1, 1), padding=(2, 2))\n",
      "  (conv_3): Conv2d(256, 384, kernel_size=(3, 3), stride=(1, 1), padding=(1, 1))\n",
      "  (conv_4): Conv2d(384, 384, kernel_size=(3, 3), stride=(1, 1), padding=(1, 1))\n",
      "  (conv_5): Conv2d(384, 256, kernel_size=(3, 3), stride=(1, 1), padding=(1, 1))\n",
      "  (linear_1): Linear(in_features=9216, out_features=4096, bias=True)\n",
      "  (linear_2): Linear(in_features=4096, out_features=4096, bias=True)\n",
      "  (linear_3): Linear(in_features=4096, out_features=30, bias=True)\n",
      "  (relu): ReLU(inplace=True)\n",
      "  (pool): MaxPool2d(kernel_size=3, stride=2, padding=0, dilation=1, ceil_mode=False)\n",
      "  (drop): Dropout(p=0.5, inplace=False)\n",
      ")\n"
     ]
    },
    {
     "name": "stderr",
     "output_type": "stream",
     "text": [
      "Epoch:  10%|███████▎                                                                 | 1/10 [00:45<06:45, 45.03s/epoch]"
     ]
    },
    {
     "name": "stdout",
     "output_type": "stream",
     "text": [
      "Epoch 0:\n",
      "train loss: 2.5816760063171387\n",
      "train acc:  13.889447212219238 test acc: 18.44270896911621\n"
     ]
    },
    {
     "name": "stderr",
     "output_type": "stream",
     "text": [
      "\r",
      "Epoch:  20%|██████████████▌                                                          | 2/10 [01:30<06:00, 45.06s/epoch]"
     ]
    },
    {
     "name": "stdout",
     "output_type": "stream",
     "text": [
      "Epoch 1:\n",
      "train loss: 2.0491156578063965\n",
      "train acc:  30.91457176208496 test acc: 25.680524826049805\n"
     ]
    },
    {
     "name": "stderr",
     "output_type": "stream",
     "text": [
      "\r",
      "Epoch:  30%|█████████████████████▉                                                   | 3/10 [02:16<05:20, 45.77s/epoch]"
     ]
    },
    {
     "name": "stdout",
     "output_type": "stream",
     "text": [
      "Epoch 2:\n",
      "train loss: 1.3653696775436401\n",
      "train acc:  41.40703582763672 test acc: 34.58535385131836\n"
     ]
    },
    {
     "name": "stderr",
     "output_type": "stream",
     "text": [
      "\r",
      "Epoch:  40%|█████████████████████████████▏                                           | 4/10 [03:02<04:33, 45.61s/epoch]"
     ]
    },
    {
     "name": "stdout",
     "output_type": "stream",
     "text": [
      "Epoch 3:\n",
      "train loss: 1.072389841079712\n",
      "train acc:  50.31155776977539 test acc: 47.66828536987305\n"
     ]
    },
    {
     "name": "stderr",
     "output_type": "stream",
     "text": [
      "\r",
      "Epoch:  50%|████████████████████████████████████▌                                    | 5/10 [03:46<03:46, 45.31s/epoch]"
     ]
    },
    {
     "name": "stdout",
     "output_type": "stream",
     "text": [
      "Epoch 4:\n",
      "train loss: 1.097881555557251\n",
      "train acc:  57.94974899291992 test acc: 45.55813217163086\n"
     ]
    },
    {
     "name": "stderr",
     "output_type": "stream",
     "text": [
      "\r",
      "Epoch:  60%|███████████████████████████████████████████▊                             | 6/10 [04:33<03:03, 45.77s/epoch]"
     ]
    },
    {
     "name": "stdout",
     "output_type": "stream",
     "text": [
      "Epoch 5:\n",
      "train loss: 0.6827458143234253\n",
      "train acc:  63.195980072021484 test acc: 55.43363571166992\n"
     ]
    },
    {
     "name": "stderr",
     "output_type": "stream",
     "text": [
      "\r",
      "Epoch:  70%|███████████████████████████████████████████████████                      | 7/10 [05:18<02:16, 45.42s/epoch]"
     ]
    },
    {
     "name": "stdout",
     "output_type": "stream",
     "text": [
      "Epoch 6:\n",
      "train loss: 0.47988706827163696\n",
      "train acc:  67.91959381103516 test acc: 64.48617553710938\n"
     ]
    },
    {
     "name": "stderr",
     "output_type": "stream",
     "text": [
      "\r",
      "Epoch:  80%|██████████████████████████████████████████████████████████▍              | 8/10 [06:03<01:31, 45.51s/epoch]"
     ]
    },
    {
     "name": "stdout",
     "output_type": "stream",
     "text": [
      "Epoch 7:\n",
      "train loss: 0.22099967300891876\n",
      "train acc:  72.02010345458984 test acc: 69.80375671386719\n"
     ]
    },
    {
     "name": "stderr",
     "output_type": "stream",
     "text": [
      "\r",
      "Epoch:  90%|█████████████████████████████████████████████████████████████████▋       | 9/10 [06:50<00:45, 45.73s/epoch]"
     ]
    },
    {
     "name": "stdout",
     "output_type": "stream",
     "text": [
      "Epoch 8:\n",
      "train loss: 0.5329698920249939\n",
      "train acc:  75.51758575439453 test acc: 54.84279251098633\n"
     ]
    },
    {
     "name": "stderr",
     "output_type": "stream",
     "text": [
      "Epoch: 100%|████████████████████████████████████████████████████████████████████████| 10/10 [07:36<00:00, 45.61s/epoch]"
     ]
    },
    {
     "name": "stdout",
     "output_type": "stream",
     "text": [
      "Epoch 9:\n",
      "train loss: 0.2512756288051605\n",
      "train acc:  78.55276489257812 test acc: 72.3570327758789\n"
     ]
    },
    {
     "name": "stderr",
     "output_type": "stream",
     "text": [
      "\n"
     ]
    }
   ],
   "source": [
    "alex = AlexNet(nout=30).to(device)\n",
    "# print(device)\n",
    "# alex = torch.hub.load(\"pytorch/vision:v0.6.0\", \"alexnet\", pretrained=False)\n",
    "# alex.classifier[4] = nn.Linear(4096, 1024)\n",
    "# alex.classifier[6] = nn.Linear(1024, 30)\n",
    "# alex = alex.to(device)\n",
    "# alex.fc = nn.Sequential(nn.Linear(2048, num_classes), nn.Sigmoid())\n",
    "print(alex)\n",
    "\n",
    "alex_optimizer_sgd = optim.SGD(alex.parameters(), lr=alex_learning_rate)\n",
    "\n",
    "alex.train()\n",
    "alex_loss_history = []\n",
    "alex_train_acc_history = []\n",
    "alex_test_acc_history = []\n",
    "for epoch in tqdm(range(alex_nepochs),\n",
    "                  desc=f\"Epoch\",\n",
    "                  unit=\"epoch\",\n",
    "                  disable=False):\n",
    "    loss_history, accuracy = (train_epoch(model=alex, \n",
    "                                          train_data=alex_train_dataset, \n",
    "                                          LossFunction=alex_loss_function, \n",
    "                                          optimizer=alex_optimizer_sgd))\n",
    "    alex_loss_history.append(loss_history)\n",
    "    alex_train_acc_history.append(accuracy)\n",
    "    alex_test_acc_history.append((evaluate(alex, alex_test_dataset) / len(alex_fish_test_set)) * 100)\n",
    "\n",
    "    print(f\"Epoch {epoch}:\\ntrain loss: {alex_loss_history[-1][-1]}\"\n",
    "          f\"\\ntrain acc:  {float(alex_train_acc_history[-1])} test acc: {float(alex_test_acc_history[-1])}\")"
   ]
  },
  {
   "cell_type": "code",
   "execution_count": 29,
   "id": "653406eb",
   "metadata": {},
   "outputs": [
    {
     "name": "stdout",
     "output_type": "stream",
     "text": [
      "cuda\n"
     ]
    },
    {
     "name": "stderr",
     "output_type": "stream",
     "text": [
      "Using cache found in C:\\Users\\Evant/.cache\\torch\\hub\\pytorch_vision_v0.6.0\n"
     ]
    },
    {
     "name": "stdout",
     "output_type": "stream",
     "text": [
      "AlexNet(\n",
      "  (features): Sequential(\n",
      "    (0): Conv2d(3, 64, kernel_size=(11, 11), stride=(4, 4), padding=(2, 2))\n",
      "    (1): ReLU(inplace=True)\n",
      "    (2): MaxPool2d(kernel_size=3, stride=2, padding=0, dilation=1, ceil_mode=False)\n",
      "    (3): Conv2d(64, 192, kernel_size=(5, 5), stride=(1, 1), padding=(2, 2))\n",
      "    (4): ReLU(inplace=True)\n",
      "    (5): MaxPool2d(kernel_size=3, stride=2, padding=0, dilation=1, ceil_mode=False)\n",
      "    (6): Conv2d(192, 384, kernel_size=(3, 3), stride=(1, 1), padding=(1, 1))\n",
      "    (7): ReLU(inplace=True)\n",
      "    (8): Conv2d(384, 256, kernel_size=(3, 3), stride=(1, 1), padding=(1, 1))\n",
      "    (9): ReLU(inplace=True)\n",
      "    (10): Conv2d(256, 256, kernel_size=(3, 3), stride=(1, 1), padding=(1, 1))\n",
      "    (11): ReLU(inplace=True)\n",
      "    (12): MaxPool2d(kernel_size=3, stride=2, padding=0, dilation=1, ceil_mode=False)\n",
      "  )\n",
      "  (avgpool): AdaptiveAvgPool2d(output_size=(6, 6))\n",
      "  (classifier): Sequential(\n",
      "    (0): Dropout(p=0.5, inplace=False)\n",
      "    (1): Linear(in_features=9216, out_features=4096, bias=True)\n",
      "    (2): ReLU(inplace=True)\n",
      "    (3): Dropout(p=0.5, inplace=False)\n",
      "    (4): Linear(in_features=4096, out_features=1024, bias=True)\n",
      "    (5): ReLU(inplace=True)\n",
      "    (6): Linear(in_features=1024, out_features=30, bias=True)\n",
      "  )\n",
      ")\n"
     ]
    },
    {
     "name": "stderr",
     "output_type": "stream",
     "text": [
      "Epoch:  20%|██████████████▊                                                           | 1/5 [00:44<02:57, 44.33s/epoch]"
     ]
    },
    {
     "name": "stdout",
     "output_type": "stream",
     "text": [
      "Epoch 0:\n",
      "train loss: 0.321952760219574\n",
      "train acc:  66.07035064697266 test acc: 87.78223419189453\n"
     ]
    },
    {
     "name": "stderr",
     "output_type": "stream",
     "text": [
      "\r",
      "Epoch:  40%|█████████████████████████████▌                                            | 2/5 [01:27<02:11, 43.89s/epoch]"
     ]
    },
    {
     "name": "stdout",
     "output_type": "stream",
     "text": [
      "Epoch 1:\n",
      "train loss: 0.09610537439584732\n",
      "train acc:  88.14070129394531 test acc: 89.17493438720703\n"
     ]
    },
    {
     "name": "stderr",
     "output_type": "stream",
     "text": [
      "\r",
      "Epoch:  60%|████████████████████████████████████████████▍                             | 3/5 [02:11<01:27, 43.66s/epoch]"
     ]
    },
    {
     "name": "stdout",
     "output_type": "stream",
     "text": [
      "Epoch 2:\n",
      "train loss: 0.2928181290626526\n",
      "train acc:  91.91959381103516 test acc: 78.49757385253906\n"
     ]
    },
    {
     "name": "stderr",
     "output_type": "stream",
     "text": [
      "\r",
      "Epoch:  80%|███████████████████████████████████████████████████████████▏              | 4/5 [02:56<00:44, 44.13s/epoch]"
     ]
    },
    {
     "name": "stdout",
     "output_type": "stream",
     "text": [
      "Epoch 3:\n",
      "train loss: 0.0011505857110023499\n",
      "train acc:  94.43215942382812 test acc: 92.48786926269531\n"
     ]
    },
    {
     "name": "stderr",
     "output_type": "stream",
     "text": [
      "Epoch: 100%|██████████████████████████████████████████████████████████████████████████| 5/5 [03:40<00:00, 44.19s/epoch]"
     ]
    },
    {
     "name": "stdout",
     "output_type": "stream",
     "text": [
      "Epoch 4:\n",
      "train loss: 0.018059931695461273\n",
      "train acc:  95.77889251708984 test acc: 93.2264175415039\n"
     ]
    },
    {
     "name": "stderr",
     "output_type": "stream",
     "text": [
      "\n"
     ]
    }
   ],
   "source": [
    "# alex = AlexNet(nout=30).to(device)\n",
    "print(device)\n",
    "alex_pt = torch.hub.load(\"pytorch/vision:v0.6.0\", \"alexnet\", pretrained=True)\n",
    "alex_pt.classifier[4] = nn.Linear(4096, 1024)\n",
    "alex_pt.classifier[6] = nn.Linear(1024, 30)\n",
    "alex_pt = alex_pt.to(device)\n",
    "# alex.fc = nn.Sequential(nn.Linear(2048, num_classes), nn.Sigmoid())\n",
    "print(alex_pt)\n",
    "\n",
    "alex_pt_optimizer_sgd = optim.SGD(alex_pt.parameters(), lr=alex_learning_rate)\n",
    "\n",
    "alex_pt.train()\n",
    "alex_pt_loss_history = []\n",
    "alex_pt_train_acc_history = []\n",
    "alex_pt_test_acc_history = []\n",
    "for epoch in tqdm(range(alex_pt_nepochs),\n",
    "                  desc=f\"Epoch\",\n",
    "                  unit=\"epoch\",\n",
    "                  disable=False):\n",
    "    loss_history, accuracy = (train_epoch(model=alex_pt, \n",
    "                                          train_data=alex_train_dataset, \n",
    "                                          LossFunction=alex_loss_function, \n",
    "                                          optimizer=alex_pt_optimizer_sgd))\n",
    "    alex_pt_loss_history.append(loss_history)\n",
    "    alex_pt_train_acc_history.append(accuracy)\n",
    "    alex_pt_test_acc_history.append((evaluate(alex_pt, alex_test_dataset) / len(alex_fish_test_set)) * 100)\n",
    "\n",
    "    print(f\"Epoch {epoch}:\\ntrain loss: {alex_pt_loss_history[-1][-1]}\"\n",
    "          f\"\\ntrain acc:  {float(alex_pt_train_acc_history[-1])} test acc: {float(alex_pt_test_acc_history[-1])}\")"
   ]
  },
  {
   "cell_type": "code",
   "execution_count": 30,
   "id": "dc04f898",
   "metadata": {},
   "outputs": [
    {
     "name": "stdout",
     "output_type": "stream",
     "text": [
      "AlexNet Final accuracy = 72.63%\n",
      "AlexNet (Pretrained) Final accuracy = 93.29%\n"
     ]
    },
    {
     "data": {
      "image/png": "[encoded data removed]",
      "text/plain": [
       "<Figure size 1080x720 with 4 Axes>"
      ]
     },
     "metadata": {
      "needs_background": "light"
     },
     "output_type": "display_data"
    }
   ],
   "source": [
    "alex_fig, alex_axs = plt.subplots(2, 2, figsize=(15, 10))\n",
    "alex_axs[0,0].plot(list(map(lambda x: x[-1], alex_loss_history)))\n",
    "alex_axs[0,0].grid(axis='y')\n",
    "alex_axs[0,0].set_title(\"Neural Network Loss: AlexNet + SGD\")    \n",
    "alex_axs[0,0].set_xlabel(\"Number of Epochs\")\n",
    "alex_axs[0,0].set_ylabel(\"Loss\")\n",
    "\n",
    "alex_axs[0,1].plot(list(map(lambda x: x[-1], alex_pt_loss_history)))\n",
    "alex_axs[0,1].grid(axis='y')\n",
    "alex_axs[0,1].set_title(\"Neural Network Loss: AlexNet (Pretrained) + SGD\")    \n",
    "alex_axs[0,1].set_xlabel(\"Number of Epochs\")\n",
    "alex_axs[0,1].set_ylabel(\"Loss\")\n",
    "\n",
    "alex_axs[1,0].plot(list(map(lambda x: float(x), alex_train_acc_history)), label=\"Train\")\n",
    "alex_axs[1,0].plot(list(map(lambda x: float(x), alex_test_acc_history)), label=\"Test\")\n",
    "alex_axs[1,0].grid(axis='y')\n",
    "alex_axs[1,0].set_title(\"Neural Network Accuracy: AlexNet + SGD\")    \n",
    "alex_axs[1,0].set_xlabel(\"Number of Epochs\")\n",
    "alex_axs[1,0].set_ylabel(\"Loss\")\n",
    "\n",
    "alex_axs[1,1].plot(list(map(lambda x: float(x), alex_pt_train_acc_history)), label=\"Train\")\n",
    "alex_axs[1,1].plot(list(map(lambda x: float(x), alex_pt_test_acc_history)), label=\"Test\")\n",
    "alex_axs[1,1].grid(axis='y')\n",
    "alex_axs[1,1].set_title(\"Neural Network Accuracy: AlexNet (Pretrained) + SGD\")    \n",
    "alex_axs[1,1].set_xlabel(\"Number of Epochs\")\n",
    "alex_axs[1,1].set_ylabel(\"Loss\")\n",
    "\n",
    "alex_accuracy = evaluate(alex, alex_test_dataset)\n",
    "print(f\"AlexNet Final accuracy = {alex_accuracy / len(alex_fish_test_set)*100:.2f}%\")\n",
    "alex_pt_accuracy = evaluate(alex_pt, alex_test_dataset)\n",
    "print(f\"AlexNet (Pretrained) Final accuracy = {alex_pt_accuracy / len(alex_fish_test_set)*100:.2f}%\")"
   ]
  },
  {
   "cell_type": "markdown",
   "id": "57d4b00b",
   "metadata": {},
   "source": [
    "<br><span style=\"color:black;font-size:35px\">**ResNet**</span>"
   ]
  },
  {
   "cell_type": "code",
   "execution_count": 8,
   "id": "cd611f86",
   "metadata": {},
   "outputs": [],
   "source": [
    "resnet_learning_rate = 1e-2\n",
    "resnet_batch_size = 32\n",
    "resnet_momentum = 0.9\n",
    "resnet_nepochs = 10\n",
    "resnet_pt_nepochs = 5\n",
    "\n",
    "resnet_transform = T.Compose([T.Resize(size=(224,224)),\n",
    "#                             T.CenterCrop(224),\n",
    "                            T.RandomHorizontalFlip(),\n",
    "                            T.ToTensor(), \n",
    "                            T.Normalize(mean=[0.485, 0.456, 0.406], std=[0.229, 0.224, 0.225])\n",
    "                           ])\n",
    "\n",
    "resnet_fish_train_set = FishDataset(FILEPATH, \n",
    "                                  train=True, \n",
    "                                  shuffle=True, \n",
    "                                  transform=resnet_transform)\n",
    "resnet_fish_test_set = FishDataset(FILEPATH, \n",
    "                                 train=False, \n",
    "                                 shuffle=False, \n",
    "                                 transform=resnet_transform)\n",
    "\n",
    "resnet_train_dataset = DataLoader(resnet_fish_train_set, batch_size=resnet_batch_size)\n",
    "resnet_test_dataset = DataLoader(resnet_fish_test_set, batch_size=resnet_batch_size)\n",
    "\n",
    "resnet_loss_function = nn.CrossEntropyLoss()"
   ]
  },
  {
   "cell_type": "code",
   "execution_count": 9,
   "id": "1b52bd5d",
   "metadata": {},
   "outputs": [
    {
     "name": "stderr",
     "output_type": "stream",
     "text": [
      "Using cache found in C:\\Users\\Evant/.cache\\torch\\hub\\pytorch_vision_v0.10.0\n"
     ]
    },
    {
     "name": "stdout",
     "output_type": "stream",
     "text": [
      "ResNet(\n",
      "  (conv1): Conv2d(3, 64, kernel_size=(7, 7), stride=(2, 2), padding=(3, 3), bias=False)\n",
      "  (bn1): BatchNorm2d(64, eps=1e-05, momentum=0.1, affine=True, track_running_stats=True)\n",
      "  (relu): ReLU(inplace=True)\n",
      "  (maxpool): MaxPool2d(kernel_size=3, stride=2, padding=1, dilation=1, ceil_mode=False)\n",
      "  (layer1): Sequential(\n",
      "    (0): Bottleneck(\n",
      "      (conv1): Conv2d(64, 64, kernel_size=(1, 1), stride=(1, 1), bias=False)\n",
      "      (bn1): BatchNorm2d(64, eps=1e-05, momentum=0.1, affine=True, track_running_stats=True)\n",
      "      (conv2): Conv2d(64, 64, kernel_size=(3, 3), stride=(1, 1), padding=(1, 1), bias=False)\n",
      "      (bn2): BatchNorm2d(64, eps=1e-05, momentum=0.1, affine=True, track_running_stats=True)\n",
      "      (conv3): Conv2d(64, 256, kernel_size=(1, 1), stride=(1, 1), bias=False)\n",
      "      (bn3): BatchNorm2d(256, eps=1e-05, momentum=0.1, affine=True, track_running_stats=True)\n",
      "      (relu): ReLU(inplace=True)\n",
      "      (downsample): Sequential(\n",
      "        (0): Conv2d(64, 256, kernel_size=(1, 1), stride=(1, 1), bias=False)\n",
      "        (1): BatchNorm2d(256, eps=1e-05, momentum=0.1, affine=True, track_running_stats=True)\n",
      "      )\n",
      "    )\n",
      "    (1): Bottleneck(\n",
      "      (conv1): Conv2d(256, 64, kernel_size=(1, 1), stride=(1, 1), bias=False)\n",
      "      (bn1): BatchNorm2d(64, eps=1e-05, momentum=0.1, affine=True, track_running_stats=True)\n",
      "      (conv2): Conv2d(64, 64, kernel_size=(3, 3), stride=(1, 1), padding=(1, 1), bias=False)\n",
      "      (bn2): BatchNorm2d(64, eps=1e-05, momentum=0.1, affine=True, track_running_stats=True)\n",
      "      (conv3): Conv2d(64, 256, kernel_size=(1, 1), stride=(1, 1), bias=False)\n",
      "      (bn3): BatchNorm2d(256, eps=1e-05, momentum=0.1, affine=True, track_running_stats=True)\n",
      "      (relu): ReLU(inplace=True)\n",
      "    )\n",
      "    (2): Bottleneck(\n",
      "      (conv1): Conv2d(256, 64, kernel_size=(1, 1), stride=(1, 1), bias=False)\n",
      "      (bn1): BatchNorm2d(64, eps=1e-05, momentum=0.1, affine=True, track_running_stats=True)\n",
      "      (conv2): Conv2d(64, 64, kernel_size=(3, 3), stride=(1, 1), padding=(1, 1), bias=False)\n",
      "      (bn2): BatchNorm2d(64, eps=1e-05, momentum=0.1, affine=True, track_running_stats=True)\n",
      "      (conv3): Conv2d(64, 256, kernel_size=(1, 1), stride=(1, 1), bias=False)\n",
      "      (bn3): BatchNorm2d(256, eps=1e-05, momentum=0.1, affine=True, track_running_stats=True)\n",
      "      (relu): ReLU(inplace=True)\n",
      "    )\n",
      "  )\n",
      "  (layer2): Sequential(\n",
      "    (0): Bottleneck(\n",
      "      (conv1): Conv2d(256, 128, kernel_size=(1, 1), stride=(1, 1), bias=False)\n",
      "      (bn1): BatchNorm2d(128, eps=1e-05, momentum=0.1, affine=True, track_running_stats=True)\n",
      "      (conv2): Conv2d(128, 128, kernel_size=(3, 3), stride=(2, 2), padding=(1, 1), bias=False)\n",
      "      (bn2): BatchNorm2d(128, eps=1e-05, momentum=0.1, affine=True, track_running_stats=True)\n",
      "      (conv3): Conv2d(128, 512, kernel_size=(1, 1), stride=(1, 1), bias=False)\n",
      "      (bn3): BatchNorm2d(512, eps=1e-05, momentum=0.1, affine=True, track_running_stats=True)\n",
      "      (relu): ReLU(inplace=True)\n",
      "      (downsample): Sequential(\n",
      "        (0): Conv2d(256, 512, kernel_size=(1, 1), stride=(2, 2), bias=False)\n",
      "        (1): BatchNorm2d(512, eps=1e-05, momentum=0.1, affine=True, track_running_stats=True)\n",
      "      )\n",
      "    )\n",
      "    (1): Bottleneck(\n",
      "      (conv1): Conv2d(512, 128, kernel_size=(1, 1), stride=(1, 1), bias=False)\n",
      "      (bn1): BatchNorm2d(128, eps=1e-05, momentum=0.1, affine=True, track_running_stats=True)\n",
      "      (conv2): Conv2d(128, 128, kernel_size=(3, 3), stride=(1, 1), padding=(1, 1), bias=False)\n",
      "      (bn2): BatchNorm2d(128, eps=1e-05, momentum=0.1, affine=True, track_running_stats=True)\n",
      "      (conv3): Conv2d(128, 512, kernel_size=(1, 1), stride=(1, 1), bias=False)\n",
      "      (bn3): BatchNorm2d(512, eps=1e-05, momentum=0.1, affine=True, track_running_stats=True)\n",
      "      (relu): ReLU(inplace=True)\n",
      "    )\n",
      "    (2): Bottleneck(\n",
      "      (conv1): Conv2d(512, 128, kernel_size=(1, 1), stride=(1, 1), bias=False)\n",
      "      (bn1): BatchNorm2d(128, eps=1e-05, momentum=0.1, affine=True, track_running_stats=True)\n",
      "      (conv2): Conv2d(128, 128, kernel_size=(3, 3), stride=(1, 1), padding=(1, 1), bias=False)\n",
      "      (bn2): BatchNorm2d(128, eps=1e-05, momentum=0.1, affine=True, track_running_stats=True)\n",
      "      (conv3): Conv2d(128, 512, kernel_size=(1, 1), stride=(1, 1), bias=False)\n",
      "      (bn3): BatchNorm2d(512, eps=1e-05, momentum=0.1, affine=True, track_running_stats=True)\n",
      "      (relu): ReLU(inplace=True)\n",
      "    )\n",
      "    (3): Bottleneck(\n",
      "      (conv1): Conv2d(512, 128, kernel_size=(1, 1), stride=(1, 1), bias=False)\n",
      "      (bn1): BatchNorm2d(128, eps=1e-05, momentum=0.1, affine=True, track_running_stats=True)\n",
      "      (conv2): Conv2d(128, 128, kernel_size=(3, 3), stride=(1, 1), padding=(1, 1), bias=False)\n",
      "      (bn2): BatchNorm2d(128, eps=1e-05, momentum=0.1, affine=True, track_running_stats=True)\n",
      "      (conv3): Conv2d(128, 512, kernel_size=(1, 1), stride=(1, 1), bias=False)\n",
      "      (bn3): BatchNorm2d(512, eps=1e-05, momentum=0.1, affine=True, track_running_stats=True)\n",
      "      (relu): ReLU(inplace=True)\n",
      "    )\n",
      "  )\n",
      "  (layer3): Sequential(\n",
      "    (0): Bottleneck(\n",
      "      (conv1): Conv2d(512, 256, kernel_size=(1, 1), stride=(1, 1), bias=False)\n",
      "      (bn1): BatchNorm2d(256, eps=1e-05, momentum=0.1, affine=True, track_running_stats=True)\n",
      "      (conv2): Conv2d(256, 256, kernel_size=(3, 3), stride=(2, 2), padding=(1, 1), bias=False)\n",
      "      (bn2): BatchNorm2d(256, eps=1e-05, momentum=0.1, affine=True, track_running_stats=True)\n",
      "      (conv3): Conv2d(256, 1024, kernel_size=(1, 1), stride=(1, 1), bias=False)\n",
      "      (bn3): BatchNorm2d(1024, eps=1e-05, momentum=0.1, affine=True, track_running_stats=True)\n",
      "      (relu): ReLU(inplace=True)\n",
      "      (downsample): Sequential(\n",
      "        (0): Conv2d(512, 1024, kernel_size=(1, 1), stride=(2, 2), bias=False)\n",
      "        (1): BatchNorm2d(1024, eps=1e-05, momentum=0.1, affine=True, track_running_stats=True)\n",
      "      )\n",
      "    )\n",
      "    (1): Bottleneck(\n",
      "      (conv1): Conv2d(1024, 256, kernel_size=(1, 1), stride=(1, 1), bias=False)\n",
      "      (bn1): BatchNorm2d(256, eps=1e-05, momentum=0.1, affine=True, track_running_stats=True)\n",
      "      (conv2): Conv2d(256, 256, kernel_size=(3, 3), stride=(1, 1), padding=(1, 1), bias=False)\n",
      "      (bn2): BatchNorm2d(256, eps=1e-05, momentum=0.1, affine=True, track_running_stats=True)\n",
      "      (conv3): Conv2d(256, 1024, kernel_size=(1, 1), stride=(1, 1), bias=False)\n",
      "      (bn3): BatchNorm2d(1024, eps=1e-05, momentum=0.1, affine=True, track_running_stats=True)\n",
      "      (relu): ReLU(inplace=True)\n",
      "    )\n",
      "    (2): Bottleneck(\n",
      "      (conv1): Conv2d(1024, 256, kernel_size=(1, 1), stride=(1, 1), bias=False)\n",
      "      (bn1): BatchNorm2d(256, eps=1e-05, momentum=0.1, affine=True, track_running_stats=True)\n",
      "      (conv2): Conv2d(256, 256, kernel_size=(3, 3), stride=(1, 1), padding=(1, 1), bias=False)\n",
      "      (bn2): BatchNorm2d(256, eps=1e-05, momentum=0.1, affine=True, track_running_stats=True)\n",
      "      (conv3): Conv2d(256, 1024, kernel_size=(1, 1), stride=(1, 1), bias=False)\n",
      "      (bn3): BatchNorm2d(1024, eps=1e-05, momentum=0.1, affine=True, track_running_stats=True)\n",
      "      (relu): ReLU(inplace=True)\n",
      "    )\n",
      "    (3): Bottleneck(\n",
      "      (conv1): Conv2d(1024, 256, kernel_size=(1, 1), stride=(1, 1), bias=False)\n",
      "      (bn1): BatchNorm2d(256, eps=1e-05, momentum=0.1, affine=True, track_running_stats=True)\n",
      "      (conv2): Conv2d(256, 256, kernel_size=(3, 3), stride=(1, 1), padding=(1, 1), bias=False)\n",
      "      (bn2): BatchNorm2d(256, eps=1e-05, momentum=0.1, affine=True, track_running_stats=True)\n",
      "      (conv3): Conv2d(256, 1024, kernel_size=(1, 1), stride=(1, 1), bias=False)\n",
      "      (bn3): BatchNorm2d(1024, eps=1e-05, momentum=0.1, affine=True, track_running_stats=True)\n",
      "      (relu): ReLU(inplace=True)\n",
      "    )\n",
      "    (4): Bottleneck(\n",
      "      (conv1): Conv2d(1024, 256, kernel_size=(1, 1), stride=(1, 1), bias=False)\n",
      "      (bn1): BatchNorm2d(256, eps=1e-05, momentum=0.1, affine=True, track_running_stats=True)\n",
      "      (conv2): Conv2d(256, 256, kernel_size=(3, 3), stride=(1, 1), padding=(1, 1), bias=False)\n",
      "      (bn2): BatchNorm2d(256, eps=1e-05, momentum=0.1, affine=True, track_running_stats=True)\n",
      "      (conv3): Conv2d(256, 1024, kernel_size=(1, 1), stride=(1, 1), bias=False)\n",
      "      (bn3): BatchNorm2d(1024, eps=1e-05, momentum=0.1, affine=True, track_running_stats=True)\n",
      "      (relu): ReLU(inplace=True)\n",
      "    )\n",
      "    (5): Bottleneck(\n",
      "      (conv1): Conv2d(1024, 256, kernel_size=(1, 1), stride=(1, 1), bias=False)\n",
      "      (bn1): BatchNorm2d(256, eps=1e-05, momentum=0.1, affine=True, track_running_stats=True)\n",
      "      (conv2): Conv2d(256, 256, kernel_size=(3, 3), stride=(1, 1), padding=(1, 1), bias=False)\n",
      "      (bn2): BatchNorm2d(256, eps=1e-05, momentum=0.1, affine=True, track_running_stats=True)\n",
      "      (conv3): Conv2d(256, 1024, kernel_size=(1, 1), stride=(1, 1), bias=False)\n",
      "      (bn3): BatchNorm2d(1024, eps=1e-05, momentum=0.1, affine=True, track_running_stats=True)\n",
      "      (relu): ReLU(inplace=True)\n",
      "    )\n",
      "  )\n",
      "  (layer4): Sequential(\n",
      "    (0): Bottleneck(\n",
      "      (conv1): Conv2d(1024, 512, kernel_size=(1, 1), stride=(1, 1), bias=False)\n",
      "      (bn1): BatchNorm2d(512, eps=1e-05, momentum=0.1, affine=True, track_running_stats=True)\n",
      "      (conv2): Conv2d(512, 512, kernel_size=(3, 3), stride=(2, 2), padding=(1, 1), bias=False)\n",
      "      (bn2): BatchNorm2d(512, eps=1e-05, momentum=0.1, affine=True, track_running_stats=True)\n",
      "      (conv3): Conv2d(512, 2048, kernel_size=(1, 1), stride=(1, 1), bias=False)\n",
      "      (bn3): BatchNorm2d(2048, eps=1e-05, momentum=0.1, affine=True, track_running_stats=True)\n",
      "      (relu): ReLU(inplace=True)\n",
      "      (downsample): Sequential(\n",
      "        (0): Conv2d(1024, 2048, kernel_size=(1, 1), stride=(2, 2), bias=False)\n",
      "        (1): BatchNorm2d(2048, eps=1e-05, momentum=0.1, affine=True, track_running_stats=True)\n",
      "      )\n",
      "    )\n",
      "    (1): Bottleneck(\n",
      "      (conv1): Conv2d(2048, 512, kernel_size=(1, 1), stride=(1, 1), bias=False)\n",
      "      (bn1): BatchNorm2d(512, eps=1e-05, momentum=0.1, affine=True, track_running_stats=True)\n",
      "      (conv2): Conv2d(512, 512, kernel_size=(3, 3), stride=(1, 1), padding=(1, 1), bias=False)\n",
      "      (bn2): BatchNorm2d(512, eps=1e-05, momentum=0.1, affine=True, track_running_stats=True)\n",
      "      (conv3): Conv2d(512, 2048, kernel_size=(1, 1), stride=(1, 1), bias=False)\n",
      "      (bn3): BatchNorm2d(2048, eps=1e-05, momentum=0.1, affine=True, track_running_stats=True)\n",
      "      (relu): ReLU(inplace=True)\n",
      "    )\n",
      "    (2): Bottleneck(\n",
      "      (conv1): Conv2d(2048, 512, kernel_size=(1, 1), stride=(1, 1), bias=False)\n",
      "      (bn1): BatchNorm2d(512, eps=1e-05, momentum=0.1, affine=True, track_running_stats=True)\n",
      "      (conv2): Conv2d(512, 512, kernel_size=(3, 3), stride=(1, 1), padding=(1, 1), bias=False)\n",
      "      (bn2): BatchNorm2d(512, eps=1e-05, momentum=0.1, affine=True, track_running_stats=True)\n",
      "      (conv3): Conv2d(512, 2048, kernel_size=(1, 1), stride=(1, 1), bias=False)\n",
      "      (bn3): BatchNorm2d(2048, eps=1e-05, momentum=0.1, affine=True, track_running_stats=True)\n",
      "      (relu): ReLU(inplace=True)\n",
      "    )\n",
      "  )\n",
      "  (avgpool): AdaptiveAvgPool2d(output_size=(1, 1))\n",
      "  (fc): Sequential(\n",
      "    (0): Linear(in_features=2048, out_features=30, bias=True)\n",
      "    (1): Sigmoid()\n",
      "  )\n",
      ")\n"
     ]
    },
    {
     "name": "stderr",
     "output_type": "stream",
     "text": [
      "Epoch:   0%|                                                                                 | 0/10 [00:00<?, ?epoch/s]C:\\Users\\Evant\\anaconda3\\envs\\other\\lib\\site-packages\\PIL\\Image.py:945: UserWarning: Palette images with Transparency expressed in bytes should be converted to RGBA images\n",
      "  warnings.warn(\n",
      "Epoch:  10%|███████▎                                                                 | 1/10 [01:20<12:08, 80.91s/epoch]"
     ]
    },
    {
     "name": "stdout",
     "output_type": "stream",
     "text": [
      "Epoch 0:\n",
      "train loss: 3.1483044624328613\n",
      "train acc:  37.18592834472656 test acc: 70.90103149414062\n"
     ]
    },
    {
     "name": "stderr",
     "output_type": "stream",
     "text": [
      "\r",
      "Epoch:  20%|██████████████▌                                                          | 2/10 [02:39<10:38, 79.81s/epoch]"
     ]
    },
    {
     "name": "stdout",
     "output_type": "stream",
     "text": [
      "Epoch 1:\n",
      "train loss: 2.9153826236724854\n",
      "train acc:  81.98995208740234 test acc: 85.3133544921875\n"
     ]
    },
    {
     "name": "stderr",
     "output_type": "stream",
     "text": [
      "\r",
      "Epoch:  30%|█████████████████████▉                                                   | 3/10 [03:56<09:08, 78.39s/epoch]"
     ]
    },
    {
     "name": "stdout",
     "output_type": "stream",
     "text": [
      "Epoch 2:\n",
      "train loss: 2.7723588943481445\n",
      "train acc:  89.34673309326172 test acc: 89.32263946533203\n"
     ]
    },
    {
     "name": "stderr",
     "output_type": "stream",
     "text": [
      "\r",
      "Epoch:  40%|█████████████████████████████▏                                           | 4/10 [05:09<07:38, 76.36s/epoch]"
     ]
    },
    {
     "name": "stdout",
     "output_type": "stream",
     "text": [
      "Epoch 3:\n",
      "train loss: 2.695906400680542\n",
      "train acc:  91.71858978271484 test acc: 91.30618286132812\n"
     ]
    },
    {
     "name": "stderr",
     "output_type": "stream",
     "text": [
      "\r",
      "Epoch:  50%|████████████████████████████████████▌                                    | 5/10 [06:23<06:16, 75.28s/epoch]"
     ]
    },
    {
     "name": "stdout",
     "output_type": "stream",
     "text": [
      "Epoch 4:\n",
      "train loss: 2.6464507579803467\n",
      "train acc:  93.26632690429688 test acc: 92.40345764160156\n"
     ]
    },
    {
     "name": "stderr",
     "output_type": "stream",
     "text": [
      "\r",
      "Epoch:  60%|███████████████████████████████████████████▊                             | 6/10 [07:36<04:58, 74.67s/epoch]"
     ]
    },
    {
     "name": "stdout",
     "output_type": "stream",
     "text": [
      "Epoch 5:\n",
      "train loss: 2.613037586212158\n",
      "train acc:  94.31155395507812 test acc: 92.80438995361328\n"
     ]
    },
    {
     "name": "stderr",
     "output_type": "stream",
     "text": [
      "\r",
      "Epoch:  70%|███████████████████████████████████████████████████                      | 7/10 [08:49<03:42, 74.17s/epoch]"
     ]
    },
    {
     "name": "stdout",
     "output_type": "stream",
     "text": [
      "Epoch 6:\n",
      "train loss: 2.5917677879333496\n",
      "train acc:  95.09547424316406 test acc: 93.12091064453125\n"
     ]
    },
    {
     "name": "stderr",
     "output_type": "stream",
     "text": [
      "\r",
      "Epoch:  80%|██████████████████████████████████████████████████████████▍              | 8/10 [10:03<02:27, 73.92s/epoch]"
     ]
    },
    {
     "name": "stdout",
     "output_type": "stream",
     "text": [
      "Epoch 7:\n",
      "train loss: 2.5714690685272217\n",
      "train acc:  95.61808776855469 test acc: 93.58514404296875\n"
     ]
    },
    {
     "name": "stderr",
     "output_type": "stream",
     "text": [
      "\r",
      "Epoch:  90%|█████████████████████████████████████████████████████████████████▋       | 9/10 [11:18<01:14, 74.21s/epoch]"
     ]
    },
    {
     "name": "stdout",
     "output_type": "stream",
     "text": [
      "Epoch 8:\n",
      "train loss: 2.556766986846924\n",
      "train acc:  95.87939453125 test acc: 93.92276763916016\n"
     ]
    },
    {
     "name": "stderr",
     "output_type": "stream",
     "text": [
      "Epoch: 100%|████████████████████████████████████████████████████████████████████████| 10/10 [12:32<00:00, 75.25s/epoch]"
     ]
    },
    {
     "name": "stdout",
     "output_type": "stream",
     "text": [
      "Epoch 9:\n",
      "train loss: 2.5470008850097656\n",
      "train acc:  96.36180877685547 test acc: 94.36589813232422\n"
     ]
    },
    {
     "name": "stderr",
     "output_type": "stream",
     "text": [
      "\n"
     ]
    }
   ],
   "source": [
    "resnet = torch.hub.load(\"pytorch/vision:v0.10.0\", \"resnet50\", pretrained=True)\n",
    "resnet.fc = nn.Sequential(nn.Linear(2048, 30), nn.Sigmoid())\n",
    "resnet = resnet.to(device)\n",
    "print(resnet)\n",
    "\n",
    "resnet_optimizer_sgd = optim.SGD(resnet.parameters(), lr=resnet_learning_rate)\n",
    "\n",
    "resnet.train()\n",
    "resnet_loss_history = []\n",
    "resnet_train_acc_history = []\n",
    "resnet_test_acc_history = []\n",
    "for epoch in tqdm(range(resnet_nepochs),\n",
    "                  desc=f\"Epoch\",\n",
    "                  unit=\"epoch\",\n",
    "                  disable=False):\n",
    "    loss_history, accuracy = (train_epoch(model=resnet, \n",
    "                                          train_data=resnet_train_dataset, \n",
    "                                          LossFunction=resnet_loss_function, \n",
    "                                          optimizer=resnet_optimizer_sgd))\n",
    "    resnet_loss_history.append(loss_history)\n",
    "    resnet_train_acc_history.append(accuracy)\n",
    "    resnet_test_acc_history.append((evaluate(resnet, resnet_test_dataset) / len(resnet_fish_test_set)) * 100)\n",
    "\n",
    "    print(f\"Epoch {epoch}:\\ntrain loss: {resnet_loss_history[-1][-1]}\"\n",
    "          f\"\\ntrain acc:  {float(resnet_train_acc_history[-1])} test acc: {float(resnet_test_acc_history[-1])}\")"
   ]
  },
  {
   "cell_type": "code",
   "execution_count": 16,
   "id": "4ed253a6",
   "metadata": {},
   "outputs": [
    {
     "name": "stdout",
     "output_type": "stream",
     "text": [
      "ResNet Final accuracy = 94.41%\n"
     ]
    },
    {
     "data": {
      "text/plain": [
       "Text(0, 0.5, 'Accuracy')"
      ]
     },
     "execution_count": 16,
     "metadata": {},
     "output_type": "execute_result"
    },
    {
     "data": {
      "image/png": "[encoded data removed]",
      "text/plain": [
       "<Figure size 720x360 with 1 Axes>"
      ]
     },
     "metadata": {
      "needs_background": "light"
     },
     "output_type": "display_data"
    },
    {
     "data": {
      "image/png": "[encoded data removed]",
      "text/plain": [
       "<Figure size 720x360 with 1 Axes>"
      ]
     },
     "metadata": {
      "needs_background": "light"
     },
     "output_type": "display_data"
    }
   ],
   "source": [
    "resnet_accuracy = evaluate(resnet, resnet_test_dataset)\n",
    "print(f\"ResNet Final accuracy = {resnet_accuracy / len(resnet_fish_test_set)*100:.2f}%\")\n",
    "\n",
    "resnet_fig1, resnet_axs1 = plt.subplots(1, 1, figsize=(10, 5))\n",
    "resnet_axs1.plot(list(map(lambda x: x[-1], resnet_loss_history)))\n",
    "resnet_axs1.grid(axis='y')\n",
    "resnet_axs1.set_title(\"Neural Network Loss: ResNet + SGD\")    \n",
    "resnet_axs1.set_xlabel(\"Number of Epochs\")\n",
    "resnet_axs1.set_ylabel(\"Loss\")\n",
    "resnet_fig2, resnet_axs2 = plt.subplots(1, 1, figsize=(10, 5))\n",
    "resnet_axs2.plot(list(map(lambda x: float(x), resnet_train_acc_history)), label=\"Train\")\n",
    "resnet_axs2.plot(list(map(lambda x: float(x), resnet_test_acc_history)), label=\"Test\")\n",
    "resnet_axs2.grid(axis='y')\n",
    "resnet_axs2.set_title(\"Neural Network Accuracy: ResNet (Pretrained) + SGD\")    \n",
    "resnet_axs2.set_xlabel(\"Number of Epochs\")\n",
    "resnet_axs2.set_ylabel(\"Accuracy\")"
   ]
  },
  {
   "cell_type": "code",
   "execution_count": null,
   "id": "31f7c46d",
   "metadata": {},
   "outputs": [],
   "source": []
  }
 ],
 "metadata": {
  "kernelspec": {
   "display_name": "Python 3 (ipykernel)",
   "language": "python",
   "name": "python3"
  },
  "language_info": {
   "codemirror_mode": {
    "name": "ipython",
    "version": 3
   },
   "file_extension": ".py",
   "mimetype": "text/x-python",
   "name": "python",
   "nbconvert_exporter": "python",
   "pygments_lexer": "ipython3",
   "version": "3.8.12"
  }
 },
 "nbformat": 4,
 "nbformat_minor": 5
}
